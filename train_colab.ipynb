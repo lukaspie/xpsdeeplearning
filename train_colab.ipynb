{
 "cells": [
  {
   "cell_type": "markdown",
   "metadata": {
    "colab_type": "text",
    "id": "vt5hanGL4WpD"
   },
   "source": [
    "# Train a deep CNN on XPS data on Google Colab"
   ]
  },
  {
   "cell_type": "markdown",
   "metadata": {
    "colab_type": "text",
    "id": "uTjEnuR-LwEo"
   },
   "source": [
    "In this notebook, we will train a deep convolutional network on iron XPS spectra using the local CPU/GPU."
   ]
  },
  {
   "cell_type": "markdown",
   "metadata": {
    "colab_type": "text",
    "id": "u6EVGrGFLwEr"
   },
   "source": [
    "## Setup"
   ]
  },
  {
   "cell_type": "markdown",
   "metadata": {
    "colab_type": "text",
    "id": "dU2aEkqdLwE_"
   },
   "source": [
    "### Mount google drive, change working directory"
   ]
  },
  {
   "cell_type": "code",
   "execution_count": null,
   "metadata": {
    "colab": {
     "base_uri": "https://localhost:8080/",
     "height": 34
    },
    "colab_type": "code",
    "executionInfo": {
     "elapsed": 1038,
     "status": "ok",
     "timestamp": 1592820425139,
     "user": {
      "displayName": "Lukas Pielsticker",
      "photoUrl": "",
      "userId": "09713923278611487525"
     },
     "user_tz": -120
    },
    "id": "5iL11_yXLwFB",
    "outputId": "f15f5cda-739e-4a2f-cbb7-6fc4babf7c1b"
   },
   "outputs": [],
   "source": [
    "# Mount drive\n",
    "from google.colab import drive\n",
    "import os\n",
    "\n",
    "drive.mount('/content/drive')\n",
    "\n",
    "# Change working path\n",
    "os.chdir('/content/drive/My Drive/app')"
   ]
  },
  {
   "cell_type": "markdown",
   "metadata": {
    "colab_type": "text",
    "id": "rC3yXYXaLwEt"
   },
   "source": [
    "### Install packages and import modules"
   ]
  },
  {
   "cell_type": "code",
   "execution_count": null,
   "metadata": {
    "colab": {
     "base_uri": "https://localhost:8080/",
     "height": 680
    },
    "colab_type": "code",
    "executionInfo": {
     "elapsed": 7723,
     "status": "ok",
     "timestamp": 1592820431833,
     "user": {
      "displayName": "Lukas Pielsticker",
      "photoUrl": "",
      "userId": "09713923278611487525"
     },
     "user_tz": -120
    },
    "id": "s4MxYB_b33V9",
    "outputId": "3477cd20-ba8e-4a65-a49d-64dab0e3ee31"
   },
   "outputs": [],
   "source": [
    "# Pip install packages\n",
    "!pip install tensorflow==2.1.0 #only for now since the progress bar looks bad\n",
    "!pip install python-docx\n",
    "\n",
    "# Import standard modules and magic commands\n",
    "import datetime\n",
    "import numpy as np\n",
    "import pytz\n",
    "from IPython.core.interactiveshell import InteractiveShell\n",
    "%matplotlib inline\n",
    "InteractiveShell.ast_node_interactivity = \"all\"\n",
    "\n",
    "# Disable tf warnings\n",
    "os.environ['TF_CPP_MIN_LOG_LEVEL'] = '3'"
   ]
  },
  {
   "cell_type": "markdown",
   "metadata": {
    "colab_type": "text",
    "id": "-qQx0QfuLwFQ"
   },
   "source": [
    "### Load custom modules"
   ]
  },
  {
   "cell_type": "code",
   "execution_count": null,
   "metadata": {
    "colab": {},
    "colab_type": "code",
    "executionInfo": {
     "elapsed": 7722,
     "status": "ok",
     "timestamp": 1592820431836,
     "user": {
      "displayName": "Lukas Pielsticker",
      "photoUrl": "",
      "userId": "09713923278611487525"
     },
     "user_tz": -120
    },
    "id": "SfLJzbL04VZ8"
   },
   "outputs": [],
   "source": [
    "# Import custom classes\n",
    "from xpsdeeplearning.network.classifier import Classifier\n",
    "from xpsdeeplearning.network.utils import TrainingGraphs, Report"
   ]
  },
  {
   "cell_type": "markdown",
   "metadata": {
    "colab_type": "text",
    "id": "R1BPxWcLLwFp"
   },
   "source": [
    "## Classification"
   ]
  },
  {
   "cell_type": "markdown",
   "metadata": {
    "colab_type": "text",
    "id": "00sFUZszLwFq"
   },
   "source": [
    "### Setting up the parameters & folder structure"
   ]
  },
  {
   "cell_type": "code",
   "execution_count": null,
   "metadata": {
    "colab": {
     "base_uri": "https://localhost:8080/",
     "height": 68
    },
    "colab_type": "code",
    "executionInfo": {
     "elapsed": 7720,
     "status": "ok",
     "timestamp": 1592820431838,
     "user": {
      "displayName": "Lukas Pielsticker",
      "photoUrl": "",
      "userId": "09713923278611487525"
     },
     "user_tz": -120
    },
    "id": "GXy2WdXYXcXc",
    "outputId": "00811fd5-7b19-4c57-e425-dc5aa684ac29"
   },
   "outputs": [],
   "source": [
    "np.random.seed(502)\n",
    "time =  datetime.datetime.now().astimezone(pytz.timezone('Europe/Berlin')).strftime(\"%Y%m%d_%Hh%Mm\")\n",
    "model_type = 'CNN'\n",
    "model_name = 'Fe_single_4_classes_CNN'\n",
    "\n",
    "input_filepath = '/content/drive/My Drive/app/datasets/20200605_iron_single_small.h5'\n",
    "label_values = ['Fe metal', 'FeO', 'Fe3O4', 'Fe2O3']\n",
    "\n",
    "clf = Classifier(time = time,\n",
    "                 model_type = model_type,\n",
    "                 model_name = model_name,\n",
    "                 labels = label_values)"
   ]
  },
  {
   "cell_type": "markdown",
   "metadata": {
    "colab_type": "text",
    "id": "q0wkRVOuLwFy"
   },
   "source": [
    "### Load and inspect the data"
   ]
  },
  {
   "cell_type": "code",
   "execution_count": null,
   "metadata": {
    "colab": {
     "base_uri": "https://localhost:8080/",
     "height": 1000
    },
    "colab_type": "code",
    "executionInfo": {
     "elapsed": 22007,
     "status": "ok",
     "timestamp": 1592820446129,
     "user": {
      "displayName": "Lukas Pielsticker",
      "photoUrl": "",
      "userId": "09713923278611487525"
     },
     "user_tz": -120
    },
    "id": "KZIiyOyKtxmf",
    "outputId": "cd77a314-6132-40ec-cd4d-742e0fd7dd85"
   },
   "outputs": [],
   "source": [
    "train_test_split = 0.2\n",
    "train_val_split = 0.2\n",
    "no_of_examples = 100000\n",
    "\n",
    "X_train, X_val, X_test, y_train, y_val, y_test = \\\n",
    "        clf.load_data_preprocess(input_filepath = input_filepath,\n",
    "                                 no_of_examples = no_of_examples,\n",
    "                                 train_test_split = train_test_split,\n",
    "                                 train_val_split = train_val_split)\n",
    "        \n",
    "# Check how the examples are distributed across the classes.\n",
    "class_distribution = clf.check_class_distribution()\n",
    "clf.plot_class_distribution()\n",
    "clf.plot_random(no_of_spectra = 9, dataset = 'train')  "
   ]
  },
  {
   "cell_type": "markdown",
   "metadata": {
    "colab_type": "text",
    "id": "TKXmi1LMLwF6"
   },
   "source": [
    "### Build the model"
   ]
  },
  {
   "cell_type": "code",
   "execution_count": null,
   "metadata": {
    "colab": {
     "base_uri": "https://localhost:8080/",
     "height": 791
    },
    "colab_type": "code",
    "executionInfo": {
     "elapsed": 22003,
     "status": "ok",
     "timestamp": 1592820446130,
     "user": {
      "displayName": "Lukas Pielsticker",
      "photoUrl": "",
      "userId": "09713923278611487525"
     },
     "user_tz": -120
    },
    "id": "pyxJ9_qh5awz",
    "outputId": "17be8448-d21c-4c07-e5ce-44ab24b42130"
   },
   "outputs": [],
   "source": [
    "learning_rate = 1e-05\n",
    "\n",
    "clf.build_model(learning_rate)\n",
    "clf.summary()\n",
    "clf.save_and_print_model_image()"
   ]
  },
  {
   "cell_type": "markdown",
   "metadata": {
    "colab_type": "text",
    "id": "GDOgVS_bLwGC"
   },
   "source": [
    "### Training"
   ]
  },
  {
   "cell_type": "code",
   "execution_count": null,
   "metadata": {
    "colab": {
     "base_uri": "https://localhost:8080/",
     "height": 408
    },
    "colab_type": "code",
    "executionInfo": {
     "elapsed": 47075,
     "status": "error",
     "timestamp": 1592820471206,
     "user": {
      "displayName": "Lukas Pielsticker",
      "photoUrl": "",
      "userId": "09713923278611487525"
     },
     "user_tz": -120
    },
    "id": "abV_fFCb5fiZ",
    "outputId": "d728f419-d4da-47bd-ecaa-9c64dd37dfbd"
   },
   "outputs": [],
   "source": [
    "epochs = 150\n",
    "batch_size = 32\n",
    "\n",
    "hist = clf.train(checkpoint = True,\n",
    "                 early_stopping = False,\n",
    "                 tb_log = True, \n",
    "                 csv_log = True,\n",
    "                 epochs = epochs, \n",
    "                 batch_size = batch_size,\n",
    "                 verbose = 1)"
   ]
  },
  {
   "cell_type": "markdown",
   "metadata": {
    "colab_type": "text",
    "id": "J9uYqsMlLwGJ"
   },
   "source": [
    "### Graphs"
   ]
  },
  {
   "cell_type": "code",
   "execution_count": null,
   "metadata": {
    "colab": {},
    "colab_type": "code",
    "executionInfo": {
     "elapsed": 47066,
     "status": "aborted",
     "timestamp": 1592820471201,
     "user": {
      "displayName": "Lukas Pielsticker",
      "photoUrl": "",
      "userId": "09713923278611487525"
     },
     "user_tz": -120
    },
    "id": "Ffr2nfZy5nYi"
   },
   "outputs": [],
   "source": [
    "graph = TrainingGraphs(clf.history,\n",
    "                        clf.model_name,\n",
    "                        clf.time) "
   ]
  },
  {
   "cell_type": "markdown",
   "metadata": {
    "colab_type": "text",
    "id": "jnAnvSXLLwGQ"
   },
   "source": [
    "### Evaluation on test data"
   ]
  },
  {
   "cell_type": "code",
   "execution_count": null,
   "metadata": {
    "colab": {},
    "colab_type": "code",
    "executionInfo": {
     "elapsed": 47064,
     "status": "aborted",
     "timestamp": 1592820471202,
     "user": {
      "displayName": "Lukas Pielsticker",
      "photoUrl": "",
      "userId": "09713923278611487525"
     },
     "user_tz": -120
    },
    "id": "4g_QmUYG5fuT"
   },
   "outputs": [],
   "source": [
    "score = clf.evaluate()\n",
    "test_loss, test_accuracy = score[0], score[1]\n",
    "print('Test loss: ' + str(np.round(test_loss, decimals=3)))\n",
    "print('Test accuracy: ' + str(np.round(test_accuracy, decimals=3)))"
   ]
  },
  {
   "cell_type": "markdown",
   "metadata": {
    "colab_type": "text",
    "id": "2uCoVCI-LwGY"
   },
   "source": [
    "###  Prediction on test data"
   ]
  },
  {
   "cell_type": "code",
   "execution_count": null,
   "metadata": {
    "colab": {},
    "colab_type": "code",
    "executionInfo": {
     "elapsed": 47063,
     "status": "aborted",
     "timestamp": 1592820471203,
     "user": {
      "displayName": "Lukas Pielsticker",
      "photoUrl": "",
      "userId": "09713923278611487525"
     },
     "user_tz": -120
    },
    "id": "ezklX5YY5fyr"
   },
   "outputs": [],
   "source": [
    "pred_train, pred_test = clf.predict()\n",
    "pred_train_classes, pred_test_classes = clf.predict_classes()"
   ]
  },
  {
   "cell_type": "markdown",
   "metadata": {
    "colab_type": "text",
    "id": "nWbogghiLwGl"
   },
   "source": [
    "### Show some predictions"
   ]
  },
  {
   "cell_type": "markdown",
   "metadata": {
    "colab_type": "text",
    "id": "T5DGB_OGLwGm"
   },
   "source": [
    "#### 5 random training samples"
   ]
  },
  {
   "cell_type": "code",
   "execution_count": null,
   "metadata": {
    "colab": {},
    "colab_type": "code",
    "executionInfo": {
     "elapsed": 47059,
     "status": "aborted",
     "timestamp": 1592820471203,
     "user": {
      "displayName": "Lukas Pielsticker",
      "photoUrl": "",
      "userId": "09713923278611487525"
     },
     "user_tz": -120
    },
    "id": "keDKIJriLwGn"
   },
   "outputs": [],
   "source": [
    "clf.plot_random(no_of_spectra = 6, dataset = 'train', with_prediction = True)  "
   ]
  },
  {
   "cell_type": "markdown",
   "metadata": {
    "colab_type": "text",
    "id": "-PHAS9XILwGr"
   },
   "source": [
    "#### 5 random test samples"
   ]
  },
  {
   "cell_type": "code",
   "execution_count": null,
   "metadata": {
    "colab": {},
    "colab_type": "code",
    "executionInfo": {
     "elapsed": 47055,
     "status": "aborted",
     "timestamp": 1592820471204,
     "user": {
      "displayName": "Lukas Pielsticker",
      "photoUrl": "",
      "userId": "09713923278611487525"
     },
     "user_tz": -120
    },
    "id": "HM3ZZf-qLwGs"
   },
   "outputs": [],
   "source": [
    "clf.plot_random(no_of_spectra = 6, dataset = 'test', with_prediction = True)  "
   ]
  },
  {
   "cell_type": "markdown",
   "metadata": {
    "colab_type": "text",
    "id": "qPxptt6rLwGy"
   },
   "source": [
    "### Show wrong predictions"
   ]
  },
  {
   "cell_type": "code",
   "execution_count": null,
   "metadata": {
    "colab": {},
    "colab_type": "code",
    "executionInfo": {
     "elapsed": 47050,
     "status": "aborted",
     "timestamp": 1592820471204,
     "user": {
      "displayName": "Lukas Pielsticker",
      "photoUrl": "",
      "userId": "09713923278611487525"
     },
     "user_tz": -120
    },
    "id": "TzeTxXlELwGz"
   },
   "outputs": [],
   "source": [
    "clf.show_wrong_classification()"
   ]
  },
  {
   "cell_type": "markdown",
   "metadata": {
    "colab_type": "text",
    "id": "KwrgvaLpLwG3"
   },
   "source": [
    "### Saving model and data"
   ]
  },
  {
   "cell_type": "code",
   "execution_count": null,
   "metadata": {
    "colab": {},
    "colab_type": "code",
    "executionInfo": {
     "elapsed": 47046,
     "status": "aborted",
     "timestamp": 1592820471205,
     "user": {
      "displayName": "Lukas Pielsticker",
      "photoUrl": "",
      "userId": "09713923278611487525"
     },
     "user_tz": -120
    },
    "id": "2HBdnZSq5f2D"
   },
   "outputs": [],
   "source": [
    "clf.save_model()\n",
    "clf.shelve_results(full = False)  "
   ]
  },
  {
   "cell_type": "markdown",
   "metadata": {
    "colab_type": "text",
    "id": "c6B2wITlLwG_"
   },
   "source": [
    "### Report"
   ]
  },
  {
   "cell_type": "code",
   "execution_count": null,
   "metadata": {
    "colab": {},
    "colab_type": "code",
    "executionInfo": {
     "elapsed": 47042,
     "status": "aborted",
     "timestamp": 1592820471205,
     "user": {
      "displayName": "Lukas Pielsticker",
      "photoUrl": "",
      "userId": "09713923278611487525"
     },
     "user_tz": -120
    },
    "id": "-rPXD0ki5pOp"
   },
   "outputs": [],
   "source": [
    "dir_name = clf.time + '_' + clf.model_name\n",
    "rep = Report(dir_name)  \n",
    "rep.write()   "
   ]
  },
  {
   "cell_type": "markdown",
   "metadata": {
    "colab_type": "text",
    "id": "Pk-dt26OLwHE"
   },
   "source": [
    "### Save output of notebook"
   ]
  },
  {
   "cell_type": "code",
   "execution_count": null,
   "metadata": {
    "colab": {},
    "colab_type": "code",
    "executionInfo": {
     "elapsed": 47040,
     "status": "aborted",
     "timestamp": 1592820471205,
     "user": {
      "displayName": "Lukas Pielsticker",
      "photoUrl": "",
      "userId": "09713923278611487525"
     },
     "user_tz": -120
    },
    "id": "mkSdyElDLwHF"
   },
   "outputs": [],
   "source": [
    "from IPython.display import Javascript, display\n",
    "from nbconvert import HTMLExporter\n",
    "\n",
    "def save_notebook():\n",
    "    display(Javascript(\"IPython.notebook.save_notebook()\"),\n",
    "            include=['application/javascript'])\n",
    "\n",
    "def output_HTML(read_file, output_file):\n",
    "    import codecs\n",
    "    import nbformat\n",
    "    exporter = HTMLExporter()\n",
    "    # read_file is '.ipynb', output_file is '.html'\n",
    "    output_notebook = nbformat.read(read_file, as_version=4)\n",
    "    output, resources = exporter.from_notebook_node(output_notebook)\n",
    "    codecs.open(output_file, 'w', encoding='utf-8').write(output)\n",
    "\n",
    "import time\n",
    "import os\n",
    "\n",
    "save_notebook()\n",
    "time.sleep(10)\n",
    "current_file = '/content/drive/My Drive/app/xpsdeeplearning/train_colab.ipynb'\n",
    "output_file = os.path.join(clf.log_dir,'train_colab_out.html')\n",
    "output_HTML(current_file, output_file)"
   ]
  }
 ],
 "metadata": {
  "accelerator": "GPU",
  "colab": {
   "collapsed_sections": [],
   "name": "train_colab.ipynb",
   "provenance": []
  },
  "kernelspec": {
   "display_name": "Python 3",
   "language": "python",
   "name": "python3"
  },
  "language_info": {
   "codemirror_mode": {
    "name": "ipython",
    "version": 3
   },
   "file_extension": ".py",
   "mimetype": "text/x-python",
   "name": "python",
   "nbconvert_exporter": "python",
   "pygments_lexer": "ipython3",
   "version": "3.7.7"
  }
 },
 "nbformat": 4,
 "nbformat_minor": 1
}
