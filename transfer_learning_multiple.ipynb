{
 "cells": [
  {
   "cell_type": "markdown",
   "metadata": {
    "colab_type": "text",
    "id": "oPGLBeegScnA"
   },
   "source": [
    "# Transfer learning of a deep CNN on XPS data on Google Colab"
   ]
  },
  {
   "cell_type": "markdown",
   "metadata": {
    "colab_type": "text",
    "id": "S9BeoKYXLXNS"
   },
   "source": [
    "In this notebook, we will use transfer learning for training a deep convolutional network on new XPS spectra using a pre-trained model. Using Google Colab."
   ]
  },
  {
   "cell_type": "markdown",
   "metadata": {
    "colab_type": "text",
    "id": "1JaT35fVScnE"
   },
   "source": [
    "## Setup"
   ]
  },
  {
   "cell_type": "markdown",
   "metadata": {
    "colab_type": "text",
    "id": "NhH0zzbeLJ5w"
   },
   "source": [
    "### Mount google drive, change working directory"
   ]
  },
  {
   "cell_type": "code",
   "execution_count": null,
   "metadata": {
    "colab": {
     "base_uri": "https://localhost:8080/",
     "height": 122
    },
    "colab_type": "code",
    "executionInfo": {
     "elapsed": 18079,
     "status": "ok",
     "timestamp": 1593587655212,
     "user": {
      "displayName": "Lukas Pielsticker",
      "photoUrl": "",
      "userId": "09713923278611487525"
     },
     "user_tz": -120
    },
    "id": "gDRyoU1eLJ5x",
    "outputId": "37c33256-679d-4b3c-dab6-f24025d89104"
   },
   "outputs": [],
   "source": [
    "# Mount drive\n",
    "from google.colab import drive\n",
    "import os\n",
    "\n",
    "drive.mount('/content/drive')\n",
    "\n",
    "# Change working path\n",
    "os.chdir('/content/drive/My Drive/app')"
   ]
  },
  {
   "cell_type": "markdown",
   "metadata": {
    "colab_type": "text",
    "id": "9Je-ZQRpLJ51"
   },
   "source": [
    "### Install packages and import modules"
   ]
  },
  {
   "cell_type": "code",
   "execution_count": null,
   "metadata": {
    "colab": {
     "base_uri": "https://localhost:8080/",
     "height": 224
    },
    "colab_type": "code",
    "executionInfo": {
     "elapsed": 25591,
     "status": "ok",
     "timestamp": 1593587662729,
     "user": {
      "displayName": "Lukas Pielsticker",
      "photoUrl": "",
      "userId": "09713923278611487525"
     },
     "user_tz": -120
    },
    "id": "y0asYF8EScnE",
    "outputId": "185af73e-27bf-4c92-9475-362d6ea6fc07"
   },
   "outputs": [],
   "source": [
    "# Install packages\n",
    "!pip install python-docx\n",
    "\n",
    "# Import standard modules and magic commands\n",
    "import datetime\n",
    "import numpy as np\n",
    "import pytz\n",
    "import importlib\n",
    "\n",
    "# Magic commands\n",
    "%matplotlib inline\n",
    "from IPython.core.interactiveshell import InteractiveShell\n",
    "InteractiveShell.ast_node_interactivity = \"all\"\n",
    "\n",
    "# Disable tf warnings\n",
    "os.environ['TF_CPP_MIN_LOG_LEVEL'] = '3'\n",
    "\n",
    "import tensorflow as tf"
   ]
  },
  {
   "cell_type": "markdown",
   "metadata": {
    "colab_type": "text",
    "id": "z4PkRl72LJ56"
   },
   "source": [
    "### Load custom modules"
   ]
  },
  {
   "cell_type": "code",
   "execution_count": null,
   "metadata": {
    "colab": {
     "base_uri": "https://localhost:8080/",
     "height": 34
    },
    "colab_type": "code",
    "executionInfo": {
     "elapsed": 28532,
     "status": "ok",
     "timestamp": 1593587665674,
     "user": {
      "displayName": "Lukas Pielsticker",
      "photoUrl": "",
      "userId": "09713923278611487525"
     },
     "user_tz": -120
    },
    "id": "zz-HVIuTSgp7",
    "outputId": "cd01e60b-d46f-4a8c-9554-09f675781a4e"
   },
   "outputs": [],
   "source": [
    "try:\n",
    "    import importlib\n",
    "    importlib.reload(classifier)\n",
    "    importlib.reload(models)\n",
    "    importlib.reload(clfutils)\n",
    "    print('Modules were reloaded.')\n",
    "except:\n",
    "    import xpsdeeplearning.network.classifier as classifier\n",
    "    import xpsdeeplearning.network.models as models\n",
    "    import xpsdeeplearning.network.utils as clfutils\n",
    "    print('Modules were loaded.')"
   ]
  },
  {
   "cell_type": "markdown",
   "metadata": {
    "colab_type": "text",
    "id": "gFhZvpTIScnH"
   },
   "source": [
    "### Setting up the parameters & folder structure"
   ]
  },
  {
   "cell_type": "code",
   "execution_count": null,
   "metadata": {
    "colab": {
     "base_uri": "https://localhost:8080/",
     "height": 68
    },
    "colab_type": "code",
    "executionInfo": {
     "elapsed": 28531,
     "status": "ok",
     "timestamp": 1593587665675,
     "user": {
      "displayName": "Lukas Pielsticker",
      "photoUrl": "",
      "userId": "09713923278611487525"
     },
     "user_tz": -120
    },
    "id": "gUcC7b9YScnI",
    "outputId": "a8863f96-9775-4de2-db7b-c4856a299936"
   },
   "outputs": [],
   "source": [
    "np.random.seed(502)\n",
    "time = datetime.datetime.now().astimezone(pytz.timezone('Europe/Berlin')).strftime(\"%Y%m%d_%Hh%Mm\")\n",
    "data_name = 'Fe_single_4_classes_transfer'\n",
    "\n",
    "label_values = ['Fe metal', 'FeO', 'Fe3O4', 'Fe2O3']\n",
    "\n",
    "clf = classifier.ClassifierSingle(time = time,\n",
    "                                  data_name = data_name,\n",
    "                                  labels = label_values)"
   ]
  },
  {
   "cell_type": "markdown",
   "metadata": {
    "colab_type": "text",
    "id": "wi-TLcucScnK"
   },
   "source": [
    "### Load and inspect the data"
   ]
  },
  {
   "cell_type": "code",
   "execution_count": null,
   "metadata": {
    "colab": {
     "base_uri": "https://localhost:8080/",
     "height": 1000
    },
    "colab_type": "code",
    "executionInfo": {
     "elapsed": 49310,
     "status": "ok",
     "timestamp": 1593587686457,
     "user": {
      "displayName": "Lukas Pielsticker",
      "photoUrl": "",
      "userId": "09713923278611487525"
     },
     "user_tz": -120
    },
    "id": "CRMFaHzEScnK",
    "outputId": "00445a4b-096f-48df-d40a-8f1b6760f9fb"
   },
   "outputs": [],
   "source": [
    "input_filepath = r'/content/drive/My Drive/app/datasets/20200622_iron_linear_combination_1000000.h5'\n",
    "train_test_split = 0.2\n",
    "train_val_split = 0.2\n",
    "no_of_examples = 100000\n",
    "\n",
    "X_train, X_val, X_test, y_train, y_val, y_test = clf.load_data_preprocess(input_filepath = input_filepath,\n",
    "                                                                          no_of_examples = no_of_examples,\n",
    "                                                                          train_test_split = train_test_split,\n",
    "                                                                          train_val_split = train_val_split)\n",
    "# Check how the examples are distributed across the classes:\n",
    "class_distribution = clf.check_class_distribution()\n",
    "clf.plot_class_distribution()\n",
    "clf.plot_random(no_of_spectra = 9, dataset = 'train')  "
   ]
  },
  {
   "cell_type": "markdown",
   "metadata": {
    "colab_type": "text",
    "id": "Kh3RH0VTScnk"
   },
   "source": [
    "## Load pre-trained model"
   ]
  },
  {
   "cell_type": "markdown",
   "metadata": {
    "colab_type": "text",
    "id": "AWCeISzVLJ6K"
   },
   "source": [
    "### Load model without classification layers"
   ]
  },
  {
   "cell_type": "code",
   "execution_count": null,
   "metadata": {
    "colab": {
     "base_uri": "https://localhost:8080/",
     "height": 561
    },
    "colab_type": "code",
    "executionInfo": {
     "elapsed": 68961,
     "status": "ok",
     "timestamp": 1593587706112,
     "user": {
      "displayName": "Lukas Pielsticker",
      "photoUrl": "",
      "userId": "09713923278611487525"
     },
     "user_tz": -120
    },
    "id": "9bGHiO0yLJ6K",
    "outputId": "e757b7fa-9413-487e-a4f9-dcc65947cf10"
   },
   "outputs": [],
   "source": [
    "clf.load_model(model_path = r'/content/drive/My Drive/app/saved_models/20200629_23h27m_Fe_multiple_4_classes',\n",
    "               drop_last_layers = 2)\n",
    "clf.summary()"
   ]
  },
  {
   "cell_type": "code",
   "execution_count": null,
   "metadata": {
    "colab": {},
    "colab_type": "code",
    "executionInfo": {
     "elapsed": 68960,
     "status": "ok",
     "timestamp": 1593587706113,
     "user": {
      "displayName": "Lukas Pielsticker",
      "photoUrl": "",
      "userId": "09713923278611487525"
     },
     "user_tz": -120
    },
    "id": "svyTW3kMMprD"
   },
   "outputs": [],
   "source": [
    "clf.model.trainable = False"
   ]
  },
  {
   "cell_type": "markdown",
   "metadata": {
    "colab_type": "text",
    "id": "kxaSnAeIScnN"
   },
   "source": [
    "### Add new classification layers"
   ]
  },
  {
   "cell_type": "code",
   "execution_count": null,
   "metadata": {
    "colab": {},
    "colab_type": "code",
    "id": "IqbvB9zmScnN"
   },
   "outputs": [],
   "source": [
    "from tensorflow.keras.models import Model\n",
    "from tensorflow.keras.layers import Dense\n",
    "\n",
    "dense_1 = Dense(500, activation = 'relu')(clf.model.layers[-1].output)\n",
    "dense_2 = Dense(clf.num_classes, activation = 'softmax')(dense_1)\n",
    "clf.model = models.EmptyModel(inputs = clf.model.input,\n",
    "                        outputs = dense_2,\n",
    "                        inputshape = clf.input_shape,\n",
    "                        num_classes = clf.num_classes,\n",
    "                        no_of_inputs = clf.model.get_config()['no_of_inputs'],\n",
    "                        name = 'Changed_Model')"
   ]
  },
  {
   "cell_type": "markdown",
   "metadata": {
    "colab_type": "text",
    "id": "SsIbOK3DScnP"
   },
   "source": [
    "### Compile and summarize the model"
   ]
  },
  {
   "cell_type": "code",
   "execution_count": null,
   "metadata": {
    "colab": {
     "base_uri": "https://localhost:8080/",
     "height": 714
    },
    "colab_type": "code",
    "executionInfo": {
     "elapsed": 69845,
     "status": "ok",
     "timestamp": 1593587707002,
     "user": {
      "displayName": "Lukas Pielsticker",
      "photoUrl": "",
      "userId": "09713923278611487525"
     },
     "user_tz": -120
    },
    "id": "2OjcUe0MLJ6S",
    "outputId": "faa48460-5338-413c-da9e-2c3b9d068967"
   },
   "outputs": [],
   "source": [
    "from tensorflow.keras.optimizers import Adam\n",
    "learning_rate = 1e-05\n",
    "optimizer = Adam(learning_rate = learning_rate) \n",
    "\n",
    "clf.model.compile(loss = 'categorical_crossentropy',\n",
    "                  optimizer = optimizer, \n",
    "                  metrics = ['accuracy'])\n",
    "\n",
    "\n",
    "# Plot summary and save model plot.\n",
    "clf.summary()\n",
    "clf.save_and_print_model_image()"
   ]
  },
  {
   "cell_type": "markdown",
   "metadata": {
    "colab_type": "text",
    "id": "2jTOuruyLJ6W"
   },
   "source": [
    "### Training"
   ]
  },
  {
   "cell_type": "code",
   "execution_count": null,
   "metadata": {
    "colab": {
     "base_uri": "https://localhost:8080/",
     "height": 1000
    },
    "colab_type": "code",
    "executionInfo": {
     "elapsed": 3516026,
     "status": "ok",
     "timestamp": 1593599356552,
     "user": {
      "displayName": "Lukas Pielsticker",
      "photoUrl": "",
      "userId": "09713923278611487525"
     },
     "user_tz": -120
    },
    "id": "8xgd0t3aScnQ",
    "outputId": "9eca0cbf-67d5-498c-c1e5-be4973d56cee"
   },
   "outputs": [],
   "source": [
    "epochs = 150\n",
    "batch_size = 32\n",
    "\n",
    "hist = clf.train(checkpoint = True,\n",
    "                 early_stopping = False,\n",
    "                 tb_log = True, \n",
    "                 csv_log = True,\n",
    "                 epochs = epochs, \n",
    "                 batch_size = batch_size,\n",
    "                 verbose = 1)"
   ]
  },
  {
   "cell_type": "markdown",
   "metadata": {
    "colab_type": "text",
    "id": "rwY64s5fScnS"
   },
   "source": [
    "### Graphs"
   ]
  },
  {
   "cell_type": "code",
   "execution_count": null,
   "metadata": {
    "colab": {
     "base_uri": "https://localhost:8080/",
     "height": 573
    },
    "colab_type": "code",
    "executionInfo": {
     "elapsed": 810,
     "status": "ok",
     "timestamp": 1593599357348,
     "user": {
      "displayName": "Lukas Pielsticker",
      "photoUrl": "",
      "userId": "09713923278611487525"
     },
     "user_tz": -120
    },
    "id": "tilFEM-ZScnT",
    "outputId": "ae75602b-759d-4469-b3c9-fa7991a6afea"
   },
   "outputs": [],
   "source": [
    "dir_name = clf.time + '_' + clf.data_name\n",
    "graph = clfutils.TrainingGraphs(clf.history, dir_name) \n",
    "graph.plot_loss()\n",
    "graph.plot_accuracy()"
   ]
  },
  {
   "cell_type": "markdown",
   "metadata": {
    "colab_type": "text",
    "id": "2hzyq_mYScnV"
   },
   "source": [
    "### Evaluation on test data"
   ]
  },
  {
   "cell_type": "code",
   "execution_count": null,
   "metadata": {
    "colab": {
     "base_uri": "https://localhost:8080/",
     "height": 102
    },
    "colab_type": "code",
    "executionInfo": {
     "elapsed": 16819,
     "status": "ok",
     "timestamp": 1593599374161,
     "user": {
      "displayName": "Lukas Pielsticker",
      "photoUrl": "",
      "userId": "09713923278611487525"
     },
     "user_tz": -120
    },
    "id": "O24OMUNKScnV",
    "outputId": "399bf80d-b0d4-4b5e-c386-c4298590a3ae"
   },
   "outputs": [],
   "source": [
    "score = clf.evaluate()\n",
    "test_loss, test_accuracy = score[0], score[1]\n",
    "print('Test loss: ' + str(np.round(test_loss, decimals=3)))\n",
    "print('Test accuracy: ' + str(np.round(test_accuracy, decimals=3)))"
   ]
  },
  {
   "cell_type": "markdown",
   "metadata": {
    "colab_type": "text",
    "id": "im-5HFvGScnX"
   },
   "source": [
    "### Prediction on test data"
   ]
  },
  {
   "cell_type": "code",
   "execution_count": null,
   "metadata": {
    "colab": {
     "base_uri": "https://localhost:8080/",
     "height": 85
    },
    "colab_type": "code",
    "executionInfo": {
     "elapsed": 135088,
     "status": "ok",
     "timestamp": 1593599509237,
     "user": {
      "displayName": "Lukas Pielsticker",
      "photoUrl": "",
      "userId": "09713923278611487525"
     },
     "user_tz": -120
    },
    "id": "Uvb314wPScnY",
    "outputId": "bcfc2e06-0388-42a9-d02b-60a08d5044c9"
   },
   "outputs": [],
   "source": [
    "pred_train, pred_test = clf.predict()\n",
    "pred_train_classes, pred_test_classes = clf.predict_classes()"
   ]
  },
  {
   "cell_type": "markdown",
   "metadata": {
    "colab_type": "text",
    "id": "hLwmQCSaScna"
   },
   "source": [
    "### Show some predictions"
   ]
  },
  {
   "cell_type": "markdown",
   "metadata": {
    "colab_type": "text",
    "id": "n8NzxKX8Scna"
   },
   "source": [
    "#### Training data"
   ]
  },
  {
   "cell_type": "code",
   "execution_count": null,
   "metadata": {
    "colab": {
     "base_uri": "https://localhost:8080/",
     "height": 482
    },
    "colab_type": "code",
    "executionInfo": {
     "elapsed": 1904,
     "status": "ok",
     "timestamp": 1593599511126,
     "user": {
      "displayName": "Lukas Pielsticker",
      "photoUrl": "",
      "userId": "09713923278611487525"
     },
     "user_tz": -120
    },
    "id": "ZeJgwhuDScnb",
    "outputId": "02e93158-d5bf-4f8f-c0d3-c53eae18fe14"
   },
   "outputs": [],
   "source": [
    "clf.plot_random(no_of_spectra = 6, dataset = 'train', with_prediction = True)  "
   ]
  },
  {
   "cell_type": "markdown",
   "metadata": {
    "colab_type": "text",
    "id": "htoKHrPkScnd"
   },
   "source": [
    "#### Test data"
   ]
  },
  {
   "cell_type": "code",
   "execution_count": null,
   "metadata": {
    "colab": {
     "base_uri": "https://localhost:8080/",
     "height": 486
    },
    "colab_type": "code",
    "executionInfo": {
     "elapsed": 1213,
     "status": "ok",
     "timestamp": 1593599512331,
     "user": {
      "displayName": "Lukas Pielsticker",
      "photoUrl": "",
      "userId": "09713923278611487525"
     },
     "user_tz": -120
    },
    "id": "P7i3oUziScnd",
    "outputId": "58e172e3-3380-42f5-a95d-c49738bcfc49"
   },
   "outputs": [],
   "source": [
    "clf.plot_random(no_of_spectra = 6, dataset = 'test', with_prediction = True)  "
   ]
  },
  {
   "cell_type": "markdown",
   "metadata": {
    "colab_type": "text",
    "id": "FRTF7qMqDvJT"
   },
   "source": [
    "### Show wrong predictions"
   ]
  },
  {
   "cell_type": "code",
   "execution_count": null,
   "metadata": {
    "colab": {
     "base_uri": "https://localhost:8080/",
     "height": 34
    },
    "colab_type": "code",
    "executionInfo": {
     "elapsed": 889,
     "status": "ok",
     "timestamp": 1593601645273,
     "user": {
      "displayName": "Lukas Pielsticker",
      "photoUrl": "",
      "userId": "09713923278611487525"
     },
     "user_tz": -120
    },
    "id": "IJUk38AYDusA",
    "outputId": "9b32ad18-485e-49fb-910d-7e2342a5ec23"
   },
   "outputs": [],
   "source": [
    "clf.show_wrong_classification()"
   ]
  },
  {
   "cell_type": "markdown",
   "metadata": {
    "colab_type": "text",
    "id": "oIw_jHjdScnf"
   },
   "source": [
    "### Saving data"
   ]
  },
  {
   "cell_type": "code",
   "execution_count": null,
   "metadata": {
    "colab": {
     "base_uri": "https://localhost:8080/",
     "height": 85
    },
    "colab_type": "code",
    "executionInfo": {
     "elapsed": 788,
     "status": "ok",
     "timestamp": 1593599513114,
     "user": {
      "displayName": "Lukas Pielsticker",
      "photoUrl": "",
      "userId": "09713923278611487525"
     },
     "user_tz": -120
    },
    "id": "0xkBRtbaScng",
    "outputId": "110d00f1-6f7d-414d-ddad-56284733bb69"
   },
   "outputs": [],
   "source": [
    "clf.save_model()\n",
    "clf.save_hyperparams()\n",
    "clf.shelve_results(full = False)"
   ]
  },
  {
   "cell_type": "markdown",
   "metadata": {
    "colab_type": "text",
    "id": "GDqgN5mCScni"
   },
   "source": [
    "### Report"
   ]
  },
  {
   "cell_type": "code",
   "execution_count": null,
   "metadata": {
    "colab": {
     "base_uri": "https://localhost:8080/",
     "height": 34
    },
    "colab_type": "code",
    "executionInfo": {
     "elapsed": 486,
     "status": "ok",
     "timestamp": 1593599513594,
     "user": {
      "displayName": "Lukas Pielsticker",
      "photoUrl": "",
      "userId": "09713923278611487525"
     },
     "user_tz": -120
    },
    "id": "dAvxpYfnScni",
    "outputId": "8409d514-1c44-4b5c-e693-0327501a657b"
   },
   "outputs": [],
   "source": [
    "dir_name = clf.time + '_' + clf.data_name\n",
    "rep = clfutils.Report(dir_name)  \n",
    "rep.write()   "
   ]
  },
  {
   "cell_type": "markdown",
   "metadata": {
    "colab_type": "text",
    "id": "gLJQUtKyScnp"
   },
   "source": [
    "### Save output of notebook"
   ]
  },
  {
   "cell_type": "code",
   "execution_count": null,
   "metadata": {
    "colab": {},
    "colab_type": "code",
    "id": "wXTzMoApScnq"
   },
   "outputs": [],
   "source": [
    "from IPython.display import Javascript, display\n",
    "from nbconvert import HTMLExporter\n",
    "\n",
    "def save_notebook():\n",
    "    display(Javascript(\"IPython.notebook.save_notebook()\"), include=['application/javascript'])\n",
    "\n",
    "def output_HTML(read_file, output_file):\n",
    "    import codecs\n",
    "    import nbformat\n",
    "    exporter = HTMLExporter()\n",
    "    # read_file is '.ipynb', output_file is '.html'\n",
    "    output_notebook = nbformat.read(read_file, as_version=4)\n",
    "    output, resources = exporter.from_notebook_node(output_notebook)\n",
    "    codecs.open(output_file, 'w', encoding='utf-8').write(output)\n",
    "\n",
    "import time\n",
    "\n",
    "save_notebook()\n",
    "time.sleep(3)\n",
    "current_file = 'transfer_learning_single.ipynb'\n",
    "output_file = os.path.join(clf.log_dir,'transfer_learning_single_out.html')\n",
    "output_HTML(current_file, output_file)"
   ]
  }
 ],
 "metadata": {
  "colab": {
   "collapsed_sections": [],
   "name": "transfer_learning_multiple.ipynb",
   "provenance": []
  },
  "kernelspec": {
   "display_name": "Python 3",
   "language": "python",
   "name": "python3"
  },
  "language_info": {
   "codemirror_mode": {
    "name": "ipython",
    "version": 3
   },
   "file_extension": ".py",
   "mimetype": "text/x-python",
   "name": "python",
   "nbconvert_exporter": "python",
   "pygments_lexer": "ipython3",
   "version": "3.7.7"
  }
 },
 "nbformat": 4,
 "nbformat_minor": 1
}
