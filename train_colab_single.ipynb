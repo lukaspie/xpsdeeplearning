{
 "cells": [
  {
   "cell_type": "markdown",
   "metadata": {
    "colab_type": "text",
    "id": "vt5hanGL4WpD"
   },
   "source": [
    "# Train a deep CNN on XPS data on Google Colab"
   ]
  },
  {
   "cell_type": "markdown",
   "metadata": {
    "colab_type": "text",
    "id": "uTjEnuR-LwEo"
   },
   "source": [
    "In this notebook, we will train a deep convolutional network on iron XPS spectra using the local CPU/GPU."
   ]
  },
  {
   "cell_type": "markdown",
   "metadata": {
    "colab_type": "text",
    "id": "u6EVGrGFLwEr"
   },
   "source": [
    "## Setup"
   ]
  },
  {
   "cell_type": "markdown",
   "metadata": {
    "colab_type": "text",
    "id": "dU2aEkqdLwE_"
   },
   "source": [
    "### Mount google drive, change working directory"
   ]
  },
  {
   "cell_type": "code",
   "execution_count": null,
   "metadata": {
    "colab": {
     "base_uri": "https://localhost:8080/",
     "height": 122
    },
    "colab_type": "code",
    "executionInfo": {
     "elapsed": 24145,
     "status": "ok",
     "timestamp": 1593469464855,
     "user": {
      "displayName": "Lukas Pielsticker",
      "photoUrl": "",
      "userId": "09713923278611487525"
     },
     "user_tz": -120
    },
    "id": "5iL11_yXLwFB",
    "outputId": "82cbe39a-d03b-47ba-fca9-046e676eda81"
   },
   "outputs": [],
   "source": [
    "# Mount drive\n",
    "from google.colab import drive\n",
    "import os\n",
    "\n",
    "drive.mount('/content/drive')\n",
    "\n",
    "# Change working path\n",
    "os.chdir('/content/drive/My Drive/app')"
   ]
  },
  {
   "cell_type": "markdown",
   "metadata": {
    "colab_type": "text",
    "id": "rC3yXYXaLwEt"
   },
   "source": [
    "### Install packages and import modules"
   ]
  },
  {
   "cell_type": "code",
   "execution_count": null,
   "metadata": {
    "colab": {
     "base_uri": "https://localhost:8080/",
     "height": 224
    },
    "colab_type": "code",
    "executionInfo": {
     "elapsed": 7087,
     "status": "ok",
     "timestamp": 1593469576400,
     "user": {
      "displayName": "Lukas Pielsticker",
      "photoUrl": "",
      "userId": "09713923278611487525"
     },
     "user_tz": -120
    },
    "id": "s4MxYB_b33V9",
    "outputId": "001c5677-b415-4b1b-be29-44fa2b1308f6"
   },
   "outputs": [],
   "source": [
    "# Install packages\n",
    "!pip install python-docx\n",
    "\n",
    "# Import standard modules and magic commands\n",
    "import datetime\n",
    "import numpy as np\n",
    "import pytz\n",
    "import importlib\n",
    "\n",
    "# Magic commands\n",
    "%matplotlib inline\n",
    "from IPython.core.interactiveshell import InteractiveShell\n",
    "InteractiveShell.ast_node_interactivity = \"all\"\n",
    "\n",
    "# Disable tf warnings\n",
    "os.environ['TF_CPP_MIN_LOG_LEVEL'] = '3'\n",
    "\n",
    "import tensorflow as tf"
   ]
  },
  {
   "cell_type": "markdown",
   "metadata": {
    "colab_type": "text",
    "id": "-qQx0QfuLwFQ"
   },
   "source": [
    "### Load custom modules"
   ]
  },
  {
   "cell_type": "code",
   "execution_count": null,
   "metadata": {
    "colab": {
     "base_uri": "https://localhost:8080/",
     "height": 34
    },
    "colab_type": "code",
    "executionInfo": {
     "elapsed": 1291,
     "status": "ok",
     "timestamp": 1593470576954,
     "user": {
      "displayName": "Lukas Pielsticker",
      "photoUrl": "",
      "userId": "09713923278611487525"
     },
     "user_tz": -120
    },
    "id": "SfLJzbL04VZ8",
    "outputId": "77e856fb-a13a-4abe-dbf5-bb3b1c31d16c"
   },
   "outputs": [],
   "source": [
    "try:\n",
    "    import importlib\n",
    "    importlib.reload(classifier)\n",
    "    importlib.reload(clfutils)\n",
    "    print('Modules were reloaded.')\n",
    "except:\n",
    "    import xpsdeeplearning.network.classifier as classifier\n",
    "    import xpsdeeplearning.network.utils as clfutils\n",
    "    print('Modules were loaded.')"
   ]
  },
  {
   "cell_type": "markdown",
   "metadata": {
    "colab_type": "text",
    "id": "R1BPxWcLLwFp"
   },
   "source": [
    "## Classification"
   ]
  },
  {
   "cell_type": "markdown",
   "metadata": {
    "colab_type": "text",
    "id": "00sFUZszLwFq"
   },
   "source": [
    "### Setting up the parameters & folder structure"
   ]
  },
  {
   "cell_type": "code",
   "execution_count": null,
   "metadata": {
    "colab": {
     "base_uri": "https://localhost:8080/",
     "height": 68
    },
    "colab_type": "code",
    "executionInfo": {
     "elapsed": 954,
     "status": "ok",
     "timestamp": 1593466049574,
     "user": {
      "displayName": "Lukas Pielsticker",
      "photoUrl": "",
      "userId": "09713923278611487525"
     },
     "user_tz": -120
    },
    "id": "GXy2WdXYXcXc",
    "outputId": "1f676678-6200-498e-87a4-97d6ee7ab01f"
   },
   "outputs": [],
   "source": [
    "np.random.seed(502)\n",
    "time =  datetime.datetime.now().astimezone(pytz.timezone('Europe/Berlin')).strftime(\"%Y%m%d_%Hh%Mm\")\n",
    "data_name = 'Fe_single_4_classes'\n",
    "\n",
    "label_values = ['Fe metal', 'FeO', 'Fe3O4', 'Fe2O3']\n",
    "\n",
    "clf = classifier.ClassifierSingle(time = time,\n",
    "                                  data_name = data_name,\n",
    "                                  labels = label_values)"
   ]
  },
  {
   "cell_type": "markdown",
   "metadata": {
    "colab_type": "text",
    "id": "q0wkRVOuLwFy"
   },
   "source": [
    "### Load and inspect the data"
   ]
  },
  {
   "cell_type": "code",
   "execution_count": null,
   "metadata": {
    "colab": {
     "base_uri": "https://localhost:8080/",
     "height": 1000
    },
    "colab_type": "code",
    "executionInfo": {
     "elapsed": 30956,
     "status": "ok",
     "timestamp": 1593466085928,
     "user": {
      "displayName": "Lukas Pielsticker",
      "photoUrl": "",
      "userId": "09713923278611487525"
     },
     "user_tz": -120
    },
    "id": "KZIiyOyKtxmf",
    "outputId": "5e2cced5-9a6d-4e35-827b-46e3a0aefb9a"
   },
   "outputs": [],
   "source": [
    "input_filepath = r'/content/drive/My Drive/app/datasets/20200605_iron_single_500000.h5'\n",
    "train_test_split = 0.2\n",
    "train_val_split = 0.2\n",
    "no_of_examples = 100000\n",
    "\n",
    "X_train, X_val, X_test, y_train, y_val, y_test = \\\n",
    "        clf.load_data_preprocess(input_filepath = input_filepath,\n",
    "                                 no_of_examples = no_of_examples,\n",
    "                                 train_test_split = train_test_split,\n",
    "                                 train_val_split = train_val_split)\n",
    "        \n",
    "# Check how the examples are distributed across the classes.\n",
    "class_distribution = clf.check_class_distribution()\n",
    "clf.plot_class_distribution()\n",
    "clf.plot_random(no_of_spectra = 9, dataset = 'train')  "
   ]
  },
  {
   "cell_type": "markdown",
   "metadata": {
    "colab_type": "text",
    "id": "TKXmi1LMLwF6"
   },
   "source": [
    "### Design the model"
   ]
  },
  {
   "cell_type": "code",
   "execution_count": null,
   "metadata": {
    "colab": {
     "base_uri": "https://localhost:8080/",
     "height": 34
    },
    "colab_type": "code",
    "executionInfo": {
     "elapsed": 1012,
     "status": "ok",
     "timestamp": 1593469583530,
     "user": {
      "displayName": "Lukas Pielsticker",
      "photoUrl": "",
      "userId": "09713923278611487525"
     },
     "user_tz": -120
    },
    "id": "pyxJ9_qh5awz",
    "outputId": "c83ad720-e03b-466c-8d7a-b952c72709d4"
   },
   "outputs": [],
   "source": [
    "try:\n",
    "    importlib.reload(models)\n",
    "    print('Models module was reloaded.')\n",
    "except:\n",
    "    import xpsdeeplearning.network.models as models\n",
    "    print('Models module was loaded.')"
   ]
  },
  {
   "cell_type": "code",
   "execution_count": null,
   "metadata": {
    "colab": {},
    "colab_type": "code",
    "executionInfo": {
     "elapsed": 838,
     "status": "ok",
     "timestamp": 1593469598585,
     "user": {
      "displayName": "Lukas Pielsticker",
      "photoUrl": "",
      "userId": "09713923278611487525"
     },
     "user_tz": -120
    },
    "id": "Z178OD4B-RtU"
   },
   "outputs": [],
   "source": [
    "from tensorflow.keras.layers import Input, Dense, Flatten, concatenate\n",
    "from tensorflow.keras.layers import Conv1D\n",
    "from tensorflow.keras.layers import Dropout\n",
    "from tensorflow.keras.layers import AveragePooling1D, MaxPooling1D\n",
    "#from tensorflow.keras.layers import BatchNormalization\n",
    "\n",
    "class CustomCNN(EmptyModel):\n",
    "    def __init__(self, inputshape, num_classes):      \n",
    "        input_1 = Input(shape = inputshape)\n",
    "                \n",
    "        conv_1_short = Conv1D(4, 5, padding = 'same',\n",
    "                            activation = 'relu')(input_1)\n",
    "        conv_1_medium = Conv1D(4, 10, padding = 'same',\n",
    "                             activation = 'relu')(input_1)\n",
    "        conv_1_long = Conv1D(4, 15, padding = 'same',\n",
    "                           activation = 'relu')(input_1)\n",
    "        sublayers = [conv_1_short, conv_1_medium, conv_1_long]\n",
    "        merged_sublayers = concatenate(sublayers)\n",
    "        \n",
    "        conv_2 = Conv1D(4, 5, activation='relu')(merged_sublayers)\n",
    "        average_pool_1 = AveragePooling1D()(conv_2)\n",
    "        \n",
    "        flatten_1 = Flatten()(average_pool_1)\n",
    "        drop_1 = Dropout(0.2)(flatten_1)\n",
    "        dense_1 = Dense(1000, activation = 'relu')(drop_1)\n",
    "        \n",
    "        dense_2 = Dense(num_classes, activation = 'softmax')(dense_1)\n",
    "        \n",
    "        no_of_inputs = len(sublayers)\n",
    "\n",
    "        super(CustomCNN, self).__init__(inputs = input_1,\n",
    "                                        outputs = dense_2,\n",
    "                                        inputshape = inputshape,\n",
    "                                        num_classes = num_classes,\n",
    "                                        no_of_inputs = no_of_inputs, \n",
    "                                        name = 'Custom_CNN')"
   ]
  },
  {
   "cell_type": "markdown",
   "metadata": {
    "colab_type": "text",
    "id": "aif5hvSH-RtX"
   },
   "source": [
    "### Build the model"
   ]
  },
  {
   "cell_type": "code",
   "execution_count": null,
   "metadata": {
    "colab": {},
    "colab_type": "code",
    "id": "o3oEb-ys-RtY"
   },
   "outputs": [],
   "source": [
    "clf.model = CustomCNN(clf.input_shape, clf.num_classes)\n",
    "\n",
    "# Alternative: Build model from available models\n",
    "#clf.model = models.CustomCNN(clf.input_shape, clf.num_classes)"
   ]
  },
  {
   "cell_type": "markdown",
   "metadata": {
    "colab_type": "text",
    "id": "CcjkzzCk-Rta"
   },
   "source": [
    "### Compile and summarize the model"
   ]
  },
  {
   "cell_type": "code",
   "execution_count": null,
   "metadata": {
    "colab": {
     "base_uri": "https://localhost:8080/",
     "height": 714
    },
    "colab_type": "code",
    "executionInfo": {
     "elapsed": 1297,
     "status": "ok",
     "timestamp": 1593466203688,
     "user": {
      "displayName": "Lukas Pielsticker",
      "photoUrl": "",
      "userId": "09713923278611487525"
     },
     "user_tz": -120
    },
    "id": "lJU5sS4R-Rta",
    "outputId": "37f4df5d-b02e-4825-a6da-549c970660ed"
   },
   "outputs": [],
   "source": [
    "from tensorflow.keras.optimizers import Adam\n",
    "learning_rate = 1e-05\n",
    "optimizer = Adam(learning_rate = learning_rate) \n",
    "\n",
    "\n",
    "def custom_loss(y_true, y_pred):\n",
    "    \"\"\"\n",
    "    Custom loss for linear combination of XPS spectra.\n",
    "    \"\"\"\n",
    "    squared_difference = tf.square(y_true - y_pred)\n",
    "    return tf.reduce_mean(squared_difference, axis=-1)  # Note the `axis=-1`\n",
    "\n",
    "#clf.model.compile(loss = custom_loss, optimizer = 'adam', )\n",
    "\n",
    "\n",
    "# Alternative: Compile model with build-in loss function\n",
    "clf.model.compile(loss = 'categorical_crossentropy',\n",
    "                  optimizer = optimizer, \n",
    "                  metrics = ['accuracy'])\n",
    "\n",
    "\n",
    "# Plot summary and save model plot.\n",
    "clf.summary()\n",
    "clf.save_and_print_model_image()"
   ]
  },
  {
   "cell_type": "markdown",
   "metadata": {
    "colab_type": "text",
    "id": "GDOgVS_bLwGC"
   },
   "source": [
    "### Training"
   ]
  },
  {
   "cell_type": "code",
   "execution_count": null,
   "metadata": {
    "colab": {
     "base_uri": "https://localhost:8080/",
     "height": 1000
    },
    "colab_type": "code",
    "executionInfo": {
     "elapsed": 1457224,
     "status": "ok",
     "timestamp": 1593467667503,
     "user": {
      "displayName": "Lukas Pielsticker",
      "photoUrl": "",
      "userId": "09713923278611487525"
     },
     "user_tz": -120
    },
    "id": "abV_fFCb5fiZ",
    "outputId": "c271b881-2b66-4eb2-f681-4d9fece73654"
   },
   "outputs": [],
   "source": [
    "epochs = 150\n",
    "batch_size = 32\n",
    "\n",
    "hist = clf.train(checkpoint = True,\n",
    "                 early_stopping = False,\n",
    "                 tb_log = True, \n",
    "                 csv_log = True,\n",
    "                 epochs = epochs, \n",
    "                 batch_size = batch_size,\n",
    "                 verbose = 1)"
   ]
  },
  {
   "cell_type": "markdown",
   "metadata": {
    "colab_type": "text",
    "id": "J9uYqsMlLwGJ"
   },
   "source": [
    "### Graphs"
   ]
  },
  {
   "cell_type": "code",
   "execution_count": null,
   "metadata": {
    "colab": {
     "base_uri": "https://localhost:8080/",
     "height": 573
    },
    "colab_type": "code",
    "executionInfo": {
     "elapsed": 1456798,
     "status": "ok",
     "timestamp": 1593467668097,
     "user": {
      "displayName": "Lukas Pielsticker",
      "photoUrl": "",
      "userId": "09713923278611487525"
     },
     "user_tz": -120
    },
    "id": "Ffr2nfZy5nYi",
    "outputId": "ebc9e0e9-aef0-4dd0-b0b1-002489fa29e4"
   },
   "outputs": [],
   "source": [
    "dir_name = clf.time + '_' + clf.data_name\n",
    "graph = clfutils.TrainingGraphs(clf.history, dir_name)\n",
    "graph.plot_loss()\n",
    "graph.plot_accuracy()"
   ]
  },
  {
   "cell_type": "markdown",
   "metadata": {
    "colab_type": "text",
    "id": "jnAnvSXLLwGQ"
   },
   "source": [
    "### Evaluation on test data"
   ]
  },
  {
   "cell_type": "code",
   "execution_count": null,
   "metadata": {
    "colab": {
     "base_uri": "https://localhost:8080/",
     "height": 102
    },
    "colab_type": "code",
    "executionInfo": {
     "elapsed": 1456173,
     "status": "ok",
     "timestamp": 1593467669091,
     "user": {
      "displayName": "Lukas Pielsticker",
      "photoUrl": "",
      "userId": "09713923278611487525"
     },
     "user_tz": -120
    },
    "id": "4g_QmUYG5fuT",
    "outputId": "3c7c7c4b-ed16-4412-de0e-d29464bb621e"
   },
   "outputs": [],
   "source": [
    "score = clf.evaluate()\n",
    "test_loss, test_accuracy = score[0], score[1]\n",
    "print('Test loss: ' + str(np.round(test_loss, decimals=3)))\n",
    "print('Test accuracy: ' + str(np.round(test_accuracy, decimals=3)))"
   ]
  },
  {
   "cell_type": "markdown",
   "metadata": {
    "colab_type": "text",
    "id": "2uCoVCI-LwGY"
   },
   "source": [
    "###  Prediction on test data"
   ]
  },
  {
   "cell_type": "code",
   "execution_count": null,
   "metadata": {
    "colab": {
     "base_uri": "https://localhost:8080/",
     "height": 85
    },
    "colab_type": "code",
    "executionInfo": {
     "elapsed": 1463973,
     "status": "ok",
     "timestamp": 1593467677813,
     "user": {
      "displayName": "Lukas Pielsticker",
      "photoUrl": "",
      "userId": "09713923278611487525"
     },
     "user_tz": -120
    },
    "id": "ezklX5YY5fyr",
    "outputId": "19d7b918-be61-4e6f-e7a6-2a4778457934"
   },
   "outputs": [],
   "source": [
    "pred_train, pred_test = clf.predict()\n",
    "pred_train_classes, pred_test_classes = clf.predict_classes()"
   ]
  },
  {
   "cell_type": "markdown",
   "metadata": {
    "colab_type": "text",
    "id": "nWbogghiLwGl"
   },
   "source": [
    "### Show some predictions"
   ]
  },
  {
   "cell_type": "markdown",
   "metadata": {
    "colab_type": "text",
    "id": "T5DGB_OGLwGm"
   },
   "source": [
    "#### 5 random training samples"
   ]
  },
  {
   "cell_type": "code",
   "execution_count": null,
   "metadata": {
    "colab": {
     "base_uri": "https://localhost:8080/",
     "height": 482
    },
    "colab_type": "code",
    "executionInfo": {
     "elapsed": 1464318,
     "status": "ok",
     "timestamp": 1593467679007,
     "user": {
      "displayName": "Lukas Pielsticker",
      "photoUrl": "",
      "userId": "09713923278611487525"
     },
     "user_tz": -120
    },
    "id": "keDKIJriLwGn",
    "outputId": "68feae64-fec3-4509-d586-bdcf05428ab4"
   },
   "outputs": [],
   "source": [
    "clf.plot_random(no_of_spectra = 6, dataset = 'train', with_prediction = True)  "
   ]
  },
  {
   "cell_type": "markdown",
   "metadata": {
    "colab_type": "text",
    "id": "-PHAS9XILwGr"
   },
   "source": [
    "#### 5 random test samples"
   ]
  },
  {
   "cell_type": "code",
   "execution_count": null,
   "metadata": {
    "colab": {
     "base_uri": "https://localhost:8080/",
     "height": 486
    },
    "colab_type": "code",
    "executionInfo": {
     "elapsed": 1464016,
     "status": "ok",
     "timestamp": 1593467679830,
     "user": {
      "displayName": "Lukas Pielsticker",
      "photoUrl": "",
      "userId": "09713923278611487525"
     },
     "user_tz": -120
    },
    "id": "HM3ZZf-qLwGs",
    "outputId": "8fd58661-7342-4fe9-e52c-a88948283935"
   },
   "outputs": [],
   "source": [
    "clf.plot_random(no_of_spectra = 6, dataset = 'test', with_prediction = True)  "
   ]
  },
  {
   "cell_type": "markdown",
   "metadata": {
    "colab_type": "text",
    "id": "qPxptt6rLwGy"
   },
   "source": [
    "### Show wrong predictions"
   ]
  },
  {
   "cell_type": "code",
   "execution_count": null,
   "metadata": {
    "colab": {
     "base_uri": "https://localhost:8080/",
     "height": 34
    },
    "colab_type": "code",
    "executionInfo": {
     "elapsed": 1463152,
     "status": "ok",
     "timestamp": 1593467679831,
     "user": {
      "displayName": "Lukas Pielsticker",
      "photoUrl": "",
      "userId": "09713923278611487525"
     },
     "user_tz": -120
    },
    "id": "TzeTxXlELwGz",
    "outputId": "b596d8f7-b3cb-4494-a257-1f19edcdf33d"
   },
   "outputs": [],
   "source": [
    "clf.show_wrong_classification()"
   ]
  },
  {
   "cell_type": "markdown",
   "metadata": {
    "colab_type": "text",
    "id": "KwrgvaLpLwG3"
   },
   "source": [
    "### Saving model and data"
   ]
  },
  {
   "cell_type": "code",
   "execution_count": null,
   "metadata": {
    "colab": {
     "base_uri": "https://localhost:8080/",
     "height": 85
    },
    "colab_type": "code",
    "executionInfo": {
     "elapsed": 1463127,
     "status": "ok",
     "timestamp": 1593467681361,
     "user": {
      "displayName": "Lukas Pielsticker",
      "photoUrl": "",
      "userId": "09713923278611487525"
     },
     "user_tz": -120
    },
    "id": "2HBdnZSq5f2D",
    "outputId": "78c42132-adaf-4a39-8d1a-a5762aacceb0"
   },
   "outputs": [],
   "source": [
    "clf.save_model()\n",
    "clf.save_hyperparams()\n",
    "clf.shelve_results(full = False)"
   ]
  },
  {
   "cell_type": "markdown",
   "metadata": {
    "colab_type": "text",
    "id": "c6B2wITlLwG_"
   },
   "source": [
    "### Report"
   ]
  },
  {
   "cell_type": "code",
   "execution_count": null,
   "metadata": {
    "colab": {
     "base_uri": "https://localhost:8080/",
     "height": 34
    },
    "colab_type": "code",
    "executionInfo": {
     "elapsed": 1462205,
     "status": "ok",
     "timestamp": 1593467681361,
     "user": {
      "displayName": "Lukas Pielsticker",
      "photoUrl": "",
      "userId": "09713923278611487525"
     },
     "user_tz": -120
    },
    "id": "-rPXD0ki5pOp",
    "outputId": "73bea7e5-640a-4d96-86fb-1e85ae843e52"
   },
   "outputs": [],
   "source": [
    "dir_name = clf.time + '_' + clf.data_name\n",
    "rep = clfutils.Report(dir_name)  \n",
    "rep.write()   "
   ]
  },
  {
   "cell_type": "markdown",
   "metadata": {
    "colab_type": "text",
    "id": "Pk-dt26OLwHE"
   },
   "source": [
    "### Save output of notebook"
   ]
  },
  {
   "cell_type": "code",
   "execution_count": null,
   "metadata": {
    "colab": {
     "base_uri": "https://localhost:8080/",
     "height": 17
    },
    "colab_type": "code",
    "executionInfo": {
     "elapsed": 12246,
     "status": "ok",
     "timestamp": 1593468076554,
     "user": {
      "displayName": "Lukas Pielsticker",
      "photoUrl": "",
      "userId": "09713923278611487525"
     },
     "user_tz": -120
    },
    "id": "mkSdyElDLwHF",
    "outputId": "41a67940-e1fa-4d67-b4cb-e4b7726e8712"
   },
   "outputs": [],
   "source": [
    "from IPython.display import Javascript, display\n",
    "from nbconvert import HTMLExporter\n",
    "\n",
    "def save_notebook():\n",
    "    display(Javascript(\"IPython.notebook.save_notebook()\"),\n",
    "            include=['application/javascript'])\n",
    "\n",
    "def output_HTML(read_file, output_file):\n",
    "    import codecs\n",
    "    import nbformat\n",
    "    exporter = HTMLExporter()\n",
    "    # read_file is '.ipynb', output_file is '.html'\n",
    "    output_notebook = nbformat.read(read_file, as_version=4)\n",
    "    output, resources = exporter.from_notebook_node(output_notebook)\n",
    "    codecs.open(output_file, 'w', encoding='utf-8').write(output)\n",
    "\n",
    "import time\n",
    "import os\n",
    "\n",
    "save_notebook()\n",
    "time.sleep(10)\n",
    "current_file = '/content/drive/My Drive/app/xpsdeeplearning/train_colab_single.ipynb'\n",
    "output_file = os.path.join(clf.log_dir,'train_colab_single_out.html')\n",
    "output_HTML(current_file, output_file)"
   ]
  }
 ],
 "metadata": {
  "accelerator": "GPU",
  "colab": {
   "collapsed_sections": [],
   "name": "train_colab_single.ipynb",
   "provenance": []
  },
  "kernelspec": {
   "display_name": "Python 3",
   "language": "python",
   "name": "python3"
  },
  "language_info": {
   "codemirror_mode": {
    "name": "ipython",
    "version": 3
   },
   "file_extension": ".py",
   "mimetype": "text/x-python",
   "name": "python",
   "nbconvert_exporter": "python",
   "pygments_lexer": "ipython3",
   "version": "3.7.7"
  }
 },
 "nbformat": 4,
 "nbformat_minor": 1
}
