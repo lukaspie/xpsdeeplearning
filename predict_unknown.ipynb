{
 "cells": [
  {
   "cell_type": "markdown",
   "metadata": {
    "id": "vt5hanGL4WpD"
   },
   "source": [
    "# Predict on new data using a trained CNN on XPS data on Google Colab"
   ]
  },
  {
   "cell_type": "markdown",
   "metadata": {
    "id": "uTjEnuR-LwEo"
   },
   "source": [
    "In this notebook, we will use a trained convolutional network to predict on unseen XPS spectra."
   ]
  },
  {
   "cell_type": "markdown",
   "metadata": {
    "id": "u6EVGrGFLwEr"
   },
   "source": [
    "## Setup"
   ]
  },
  {
   "cell_type": "markdown",
   "metadata": {
    "id": "dU2aEkqdLwE_"
   },
   "source": [
    "### Mount google drive, change working directory"
   ]
  },
  {
   "cell_type": "code",
   "execution_count": null,
   "metadata": {
    "colab": {
     "base_uri": "https://localhost:8080/"
    },
    "executionInfo": {
     "elapsed": 35046,
     "status": "ok",
     "timestamp": 1611590368825,
     "user": {
      "displayName": "Lukas Pielsticker",
      "photoUrl": "",
      "userId": "09713923278611487525"
     },
     "user_tz": -60
    },
    "id": "5iL11_yXLwFB",
    "outputId": "92977615-e0ed-443a-8166-975446b0c261"
   },
   "outputs": [],
   "source": [
    "# Mount drive\n",
    "from google.colab import drive\n",
    "import os\n",
    "\n",
    "drive.mount('/content/drive')\n",
    "\n",
    "# Change working path\n",
    "os.chdir('/content/drive/My Drive/app')"
   ]
  },
  {
   "cell_type": "markdown",
   "metadata": {
    "id": "rC3yXYXaLwEt"
   },
   "source": [
    "### Install packages and import modules"
   ]
  },
  {
   "cell_type": "code",
   "execution_count": null,
   "metadata": {
    "executionInfo": {
     "elapsed": 110733,
     "status": "ok",
     "timestamp": 1611590444516,
     "user": {
      "displayName": "Lukas Pielsticker",
      "photoUrl": "",
      "userId": "09713923278611487525"
     },
     "user_tz": -60
    },
    "id": "s4MxYB_b33V9"
   },
   "outputs": [],
   "source": [
    "%%capture\n",
    "# Install packages\n",
    "!pip install python-docx\n",
    "!pip install tensorflow==2.3.0 as tf # to be dropped when tf 2.4 works\n",
    "\n",
    "# Import standard modules and magic commands\n",
    "import datetime\n",
    "import numpy as np\n",
    "import pytz\n",
    "import importlib\n",
    "import matplotlib.pyplot as plt\n",
    "\n",
    "# Magic commands\n",
    "%matplotlib inline\n",
    "from IPython.core.interactiveshell import InteractiveShell\n",
    "InteractiveShell.ast_node_interactivity = \"all\"\n",
    "\n",
    "# Disable tf warnings\n",
    "os.environ['TF_CPP_MIN_LOG_LEVEL'] = '3'\n",
    "\n",
    "import tensorflow as tf"
   ]
  },
  {
   "cell_type": "markdown",
   "metadata": {
    "colab": {
     "base_uri": "https://localhost:8080/",
     "height": 35
    },
    "executionInfo": {
     "elapsed": 110724,
     "status": "ok",
     "timestamp": 1611590444520,
     "user": {
      "displayName": "Lukas Pielsticker",
      "photoUrl": "",
      "userId": "09713923278611487525"
     },
     "user_tz": -60
    },
    "id": "1wemeM47_Dsy",
    "outputId": "8a8b06ce-d24f-47cf-9626-11cb86340c2a"
   },
   "source": [
    "### Check TensorFlow version"
   ]
  },
  {
   "cell_type": "code",
   "execution_count": null,
   "metadata": {},
   "outputs": [],
   "source": [
    "tf.__version__"
   ]
  },
  {
   "cell_type": "markdown",
   "metadata": {
    "id": "cUoY0u-azykG"
   },
   "source": [
    "## Predict on new data set"
   ]
  },
  {
   "cell_type": "markdown",
   "metadata": {
    "id": "BIK91hfFzykI"
   },
   "source": [
    "### Load custom modules"
   ]
  },
  {
   "cell_type": "code",
   "execution_count": null,
   "metadata": {
    "colab": {
     "base_uri": "https://localhost:8080/"
    },
    "executionInfo": {
     "elapsed": 59336,
     "status": "ok",
     "timestamp": 1611590448188,
     "user": {
      "displayName": "Lukas Pielsticker",
      "photoUrl": "",
      "userId": "09713923278611487525"
     },
     "user_tz": -60
    },
    "id": "tIRCy6dczykI",
    "outputId": "7e43ce6a-adcf-41e3-e89d-f1b8b4330d4b"
   },
   "outputs": [],
   "source": [
    "try:\n",
    "    import importlib\n",
    "    importlib.reload(classifier)\n",
    "    importlib.reload(clfutils)\n",
    "    print('\\n Modules were reloaded.')\n",
    "except:\n",
    "    import xpsdeeplearning.network.classifier as classifier\n",
    "    import xpsdeeplearning.network.utils as clfutils\n",
    "    print('\\n Modules were loaded.')"
   ]
  },
  {
   "cell_type": "markdown",
   "metadata": {
    "id": "A--Vy139zykO"
   },
   "source": [
    "### Set up the parameters & folder structure"
   ]
  },
  {
   "cell_type": "code",
   "execution_count": null,
   "metadata": {
    "colab": {
     "base_uri": "https://localhost:8080/"
    },
    "executionInfo": {
     "elapsed": 1031,
     "status": "ok",
     "timestamp": 1611590581596,
     "user": {
      "displayName": "Lukas Pielsticker",
      "photoUrl": "",
      "userId": "09713923278611487525"
     },
     "user_tz": -60
    },
    "id": "EV6VlavezykM",
    "outputId": "2a8ae8e6-2e3d-44f1-f152-bf56d82f847e"
   },
   "outputs": [],
   "source": [
    "np.random.seed(502)\n",
    "time = datetime.datetime.now().astimezone(pytz.timezone('Europe/Berlin')).strftime(\"%Y%m%d_%Hh%Mm\")\n",
    "exp_name = 'Pd_2_classes_measured_predict_using_20210120_20h36m_after_528_epochs'\n",
    "\n",
    "clf = classifier.Classifier(time = time,\n",
    "                            exp_name = exp_name,\n",
    "                            task = 'regression',\n",
    "                            intensity_only = True)"
   ]
  },
  {
   "cell_type": "markdown",
   "metadata": {
    "id": "aolWeXMUu0t7"
   },
   "source": [
    "### Load and inspect the data"
   ]
  },
  {
   "cell_type": "code",
   "execution_count": null,
   "metadata": {
    "colab": {
     "base_uri": "https://localhost:8080/",
     "height": 905
    },
    "executionInfo": {
     "elapsed": 3388,
     "status": "ok",
     "timestamp": 1611590606188,
     "user": {
      "displayName": "Lukas Pielsticker",
      "photoUrl": "",
      "userId": "09713923278611487525"
     },
     "user_tz": -60
    },
    "id": "ZJLaERRdzykP",
    "outputId": "8ff85ccd-b0e8-4443-f245-ceb5ca0d0e9d"
   },
   "outputs": [],
   "source": [
    "input_filepath = r'/content/drive/My Drive/app/datasets/20210125_palladium_measured_caro_fit.h5'\n",
    "\n",
    "train_test_split = 0.99\n",
    "train_val_split = 0\n",
    "no_of_examples = 180\n",
    "\n",
    "        \n",
    "X_train, X_val, X_test, y_train, y_val, y_test,\\\n",
    "    names_train, names_val, names_test =\\\n",
    "        clf.load_data_preprocess(input_filepath = input_filepath,\n",
    "                                 no_of_examples = no_of_examples,\n",
    "                                 train_test_split = train_test_split,\n",
    "                                 train_val_split = train_val_split)\n",
    "        \n",
    "# Check how the examples are distributed across the classes.\n",
    "class_distribution = clf.check_class_distribution()\n",
    "clf.plot_class_distribution()\n",
    "clf.plot_random(no_of_spectra = 10, dataset = 'test')  "
   ]
  },
  {
   "cell_type": "markdown",
   "metadata": {
    "id": "Scz4eKkBzykR"
   },
   "source": [
    "### Load the model"
   ]
  },
  {
   "cell_type": "code",
   "execution_count": null,
   "metadata": {
    "colab": {
     "base_uri": "https://localhost:8080/"
    },
    "executionInfo": {
     "elapsed": 5530,
     "status": "ok",
     "timestamp": 1611590649814,
     "user": {
      "displayName": "Lukas Pielsticker",
      "photoUrl": "",
      "userId": "09713923278611487525"
     },
     "user_tz": -60
    },
    "id": "VMVyl13vzykR",
    "outputId": "005ccdbc-c7a3-47d3-d9fa-2e5cda0f4fbf"
   },
   "outputs": [],
   "source": [
    "clf.load_model(model_path = '/content/drive/My Drive/app/saved_models/20210120_20h36m_Pd_2_classes_linear_comb_new_noise')"
   ]
  },
  {
   "cell_type": "markdown",
   "metadata": {
    "id": "hxy577GVzykU"
   },
   "source": [
    "### Compile and summarize the model"
   ]
  },
  {
   "cell_type": "code",
   "execution_count": null,
   "metadata": {
    "colab": {
     "base_uri": "https://localhost:8080/",
     "height": 825
    },
    "executionInfo": {
     "elapsed": 1467,
     "status": "ok",
     "timestamp": 1611590657596,
     "user": {
      "displayName": "Lukas Pielsticker",
      "photoUrl": "",
      "userId": "09713923278611487525"
     },
     "user_tz": -60
    },
    "id": "2kuCa5JrzykU",
    "outputId": "87fb9233-bbb6-4f79-ef35-416206ea9752"
   },
   "outputs": [],
   "source": [
    "from tensorflow.keras.optimizers import Adam\n",
    "from tensorflow.keras.losses import MeanAbsoluteError, MeanSquaredError, CategoricalCrossentropy\n",
    "\n",
    "learning_rate = 1e-05\n",
    "optimizer = Adam(learning_rate = learning_rate) \n",
    "\n",
    "if clf.task == 'regression':\n",
    "    mae = MeanAbsoluteError()\n",
    "    clf.model.compile(loss = mae, optimizer = optimizer)\n",
    "    # =============================================================================\n",
    "    # mse = MeanSquaredError()\n",
    "    # clf.model.compile(loss = mse, optimizer = optimizer)\n",
    "    # =============================================================================\n",
    "    \n",
    "if clf.task == 'classification':\n",
    "    categorical_crossentropy = CategoricalCrossentropy()\n",
    "    clf.model.compile(loss = categorical_crossentropy,\n",
    "                      optimizer = optimizer,\n",
    "                      metrics = ['accuracy'])\n",
    "\n",
    "# Plot summary and save model plot.\n",
    "clf.summary()\n",
    "clf.save_and_print_model_image()"
   ]
  },
  {
   "cell_type": "markdown",
   "metadata": {
    "id": "vU0wNC7Gzykb"
   },
   "source": [
    "### Evaluate on test data"
   ]
  },
  {
   "cell_type": "code",
   "execution_count": null,
   "metadata": {
    "colab": {
     "base_uri": "https://localhost:8080/"
    },
    "executionInfo": {
     "elapsed": 938,
     "status": "ok",
     "timestamp": 1611590662405,
     "user": {
      "displayName": "Lukas Pielsticker",
      "photoUrl": "",
      "userId": "09713923278611487525"
     },
     "user_tz": -60
    },
    "id": "FrBHxgv4zykc",
    "outputId": "b9631d41-10b3-4fd4-a2dc-dde8fe599f93"
   },
   "outputs": [],
   "source": [
    "clf.batch_size = 32\n",
    "\n",
    "if clf.task == 'classification':\n",
    "    score = clf.evaluate()\n",
    "    test_loss, test_accuracy = score[0], score[1]\n",
    "    print('Test loss: ' + str(np.round(test_loss, decimals=8)))\n",
    "    print('Test accuracy: ' + str(np.round(test_accuracy, decimals=3)))\n",
    "elif clf.task == 'regression':\n",
    "    test_loss = clf.evaluate()\n",
    "    print('Test loss: ' + str(np.round(test_loss, decimals=8)))"
   ]
  },
  {
   "cell_type": "markdown",
   "metadata": {
    "id": "Fjjtw8GIzyke"
   },
   "source": [
    "###  Predict on train & test data"
   ]
  },
  {
   "cell_type": "code",
   "execution_count": null,
   "metadata": {
    "colab": {
     "base_uri": "https://localhost:8080/"
    },
    "executionInfo": {
     "elapsed": 767,
     "status": "ok",
     "timestamp": 1611590665684,
     "user": {
      "displayName": "Lukas Pielsticker",
      "photoUrl": "",
      "userId": "09713923278611487525"
     },
     "user_tz": -60
    },
    "id": "betY7D8Lzyke",
    "outputId": "af3ac2a4-02f9-4888-add5-c1fd90a9204f"
   },
   "outputs": [],
   "source": [
    "pred_train, pred_test = clf.predict()\n",
    "if clf.task == 'classification':\n",
    "    pred_train_classes, pred_test_classes = clf.predict_classes()"
   ]
  },
  {
   "cell_type": "markdown",
   "metadata": {
    "id": "j7M70DZczykg"
   },
   "source": [
    "### Show some predictions on random test samples"
   ]
  },
  {
   "cell_type": "code",
   "execution_count": null,
   "metadata": {
    "colab": {
     "base_uri": "https://localhost:8080/",
     "height": 614
    },
    "executionInfo": {
     "elapsed": 5651,
     "status": "ok",
     "timestamp": 1611590674573,
     "user": {
      "displayName": "Lukas Pielsticker",
      "photoUrl": "",
      "userId": "09713923278611487525"
     },
     "user_tz": -60
    },
    "id": "Xw7gb5unzykk",
    "outputId": "130da6a1-3dcb-4911-f54b-956e25f23818"
   },
   "outputs": [],
   "source": [
    "clf.plot_random(no_of_spectra = 15, dataset = 'test', with_prediction = True)  "
   ]
  },
  {
   "cell_type": "markdown",
   "metadata": {
    "id": "ntwhSv1ertCE"
   },
   "source": [
    "\n",
    "### Show the worst predictions on the test samples"
   ]
  },
  {
   "cell_type": "code",
   "execution_count": null,
   "metadata": {
    "colab": {
     "base_uri": "https://localhost:8080/",
     "height": 838
    },
    "executionInfo": {
     "elapsed": 4655,
     "status": "ok",
     "timestamp": 1611590694944,
     "user": {
      "displayName": "Lukas Pielsticker",
      "photoUrl": "",
      "userId": "09713923278611487525"
     },
     "user_tz": -60
    },
    "id": "BrRMTiLoX8zA",
    "outputId": "f68331ab-ec23-494e-db18-67c3fd3797e3"
   },
   "outputs": [],
   "source": [
    "clf.show_worst_predictions(no_of_spectra = 20)"
   ]
  },
  {
   "cell_type": "markdown",
   "metadata": {
    "id": "kEXX5Tjpzykm"
   },
   "source": [
    "### Save data"
   ]
  },
  {
   "cell_type": "code",
   "execution_count": null,
   "metadata": {
    "colab": {
     "base_uri": "https://localhost:8080/"
    },
    "executionInfo": {
     "elapsed": 608,
     "status": "ok",
     "timestamp": 1611590721593,
     "user": {
      "displayName": "Lukas Pielsticker",
      "photoUrl": "",
      "userId": "09713923278611487525"
     },
     "user_tz": -60
    },
    "id": "BskGIeL3zykm",
    "outputId": "da874094-03a4-48b3-def6-e9f4ff9ecd85"
   },
   "outputs": [],
   "source": [
    "clf.save_hyperparams()\n",
    "clf.shelve_results(full = False)"
   ]
  },
  {
   "cell_type": "markdown",
   "metadata": {
    "id": "oeboNYkNsf7Z"
   },
   "source": [
    "## Check where and why the predictions fail"
   ]
  },
  {
   "cell_type": "markdown",
   "metadata": {
    "id": "LEsesHVN3R9o"
   },
   "source": [
    "### Calculate loss for each example in the test set"
   ]
  },
  {
   "cell_type": "code",
   "execution_count": null,
   "metadata": {
    "executionInfo": {
     "elapsed": 769,
     "status": "ok",
     "timestamp": 1611590939185,
     "user": {
      "displayName": "Lukas Pielsticker",
      "photoUrl": "",
      "userId": "09713923278611487525"
     },
     "user_tz": -60
    },
    "id": "EJ5fuvdXl2Xp"
   },
   "outputs": [],
   "source": [
    "mse = tf.keras.losses.MeanSquaredError()\n",
    "mae = tf.keras.losses.MeanAbsoluteError()\n",
    "mape = tf.keras.losses.MeanAbsolutePercentageError()\n",
    "\n",
    "mse_losses = [mse(clf.datahandler.y_test[i], clf.datahandler.pred_test[i]).numpy() \\\n",
    "                  for i in range(clf.y_test.shape[0])]\n",
    "mae_losses = [mae(clf.datahandler.y_test[i], clf.datahandler.pred_test[i]).numpy() \\\n",
    "                  for i in range(clf.y_test.shape[0])]\n",
    "mape_losses = [mape(clf.datahandler.y_test[i], clf.datahandler.pred_test[i]).numpy() \\\n",
    "                  for i in range(clf.y_test.shape[0])]"
   ]
  },
  {
   "cell_type": "code",
   "execution_count": null,
   "metadata": {
    "executionInfo": {
     "elapsed": 527,
     "status": "ok",
     "timestamp": 1611591076050,
     "user": {
      "displayName": "Lukas Pielsticker",
      "photoUrl": "",
      "userId": "09713923278611487525"
     },
     "user_tz": -60
    },
    "id": "kUGH7hS2_0Ui"
   },
   "outputs": [],
   "source": [
    "def show_worst_of_one_kind(indices, spectra = [0,20]):\n",
    "    if len(indices) > 0:\n",
    "        data = []\n",
    "        texts = []\n",
    "        \n",
    "        X = clf.datahandler.X_test\n",
    "        y = clf.datahandler.y_test\n",
    "        \n",
    "        no_of_spectra =  spectra[1] - spectra[0]\n",
    "                     \n",
    "        for i in range(no_of_spectra):\n",
    "            index = indices[spectra[0]+i]\n",
    "            if self.intensity_only:\n",
    "                new_energies = np.reshape(np.array(clf.datahandler.energies),(-1,1))\n",
    "                data.append(np.hstack((new_energies, X[index])))\n",
    "            else:\n",
    "                data.append(X[index])\n",
    "            \n",
    "            label = str(np.around(clf.datahandler.y_test[index], decimals = 3))\n",
    "            full_text = 'Real: ' +  label + '\\n'\n",
    "             \n",
    "            tmp_array = np.around(clf.datahandler.pred_test[index], decimals = 3) \n",
    "            full_text += 'Prediction: ' + str(list(tmp_array)) + '\\n'\n",
    "            try:\n",
    "                full_text += clf.datahandler._write_aug_text(dataset = 'test',\n",
    "                                                 index = index)\n",
    "            except AttributeError:\n",
    "                pass\n",
    "            try:\n",
    "                full_text += clf.datahandler._write_measured_text(dataset = 'test',\n",
    "                                                      index = index)\n",
    "            except AttributeError:\n",
    "                 pass\n",
    "            loss_text = ('MSE: ' + str(np.around(mse_losses[index], decimals = 3)) + ', ' +\\\n",
    "                         'MAE: ' + str(np.around(mae_losses[index], decimals = 3)))\n",
    "            \n",
    "            text = full_text + loss_text\n",
    "            texts.append(text)\n",
    "            \n",
    "        data = np.array(data)\n",
    "        \n",
    "        graphic = SpectraPlot(data=data,\n",
    "                              annots=texts)\n",
    "        fig, axs = graphic.plot()"
   ]
  },
  {
   "cell_type": "markdown",
   "metadata": {
    "id": "Y7yOZ8t_25_x"
   },
   "source": [
    "### Show worst predictions for single spectra"
   ]
  },
  {
   "cell_type": "code",
   "execution_count": null,
   "metadata": {
    "executionInfo": {
     "elapsed": 550,
     "status": "ok",
     "timestamp": 1611591045282,
     "user": {
      "displayName": "Lukas Pielsticker",
      "photoUrl": "",
      "userId": "09713923278611487525"
     },
     "user_tz": -60
    },
    "id": "Q8QpuZbR1fqj"
   },
   "outputs": [],
   "source": [
    "worst_indices_single = [j[1] for j in sorted([(x,i) for (i,x) in \\\n",
    "                                        enumerate(mae_losses) if len(np.where(clf.y_test[i] == 0.)[0]) == 3],\n",
    "                                        reverse=True)] \n",
    "show_worst_of_one_kind(worst_indices_single, spectra = [0,20])"
   ]
  },
  {
   "cell_type": "markdown",
   "metadata": {
    "id": "2p_7JDYIAHGG"
   },
   "source": [
    "### Show worst predictions for different loss thresholds (single spectra)\n"
   ]
  },
  {
   "cell_type": "code",
   "execution_count": null,
   "metadata": {
    "id": "KR2z_lrx8KH4"
   },
   "outputs": [],
   "source": [
    "threshold = 0.2\n",
    "worst_indices_single_01 = [j[1] for j in sorted([(x,i) for (i,x) in \\\n",
    "                           enumerate(mae_losses) if (len(np.where(clf.y_test[i] == 0.)[0]) == 3 and x >= threshold)],\n",
    "                           reverse=True)]\n",
    "  \n",
    "show_worst_of_one_kind(worst_indices_single_01,\n",
    "                       spectra = [len(worst_indices_single_01)-10,\n",
    "                                  len(worst_indices_single_01)])\n",
    "\n",
    "print('{0} of {1} test samples with single species ({2}%) have a mean absolute error of of at least {3}.'.format(\n",
    "    str(len(worst_indices_single_01)),\n",
    "    str(len(worst_indices_single)),\n",
    "    str(100*(np.around(len(worst_indices_single_01)/len(worst_indices_single), decimals = 3))),\n",
    "    str(threshold)))"
   ]
  },
  {
   "cell_type": "code",
   "execution_count": null,
   "metadata": {
    "id": "4e2Y5-M0J7tI"
   },
   "outputs": [],
   "source": [
    "threshold = 0.1\n",
    "worst_indices_single_02 = [j[1] for j in sorted([(x,i) for (i,x) in \\\n",
    "                        enumerate(mae_losses) if (len(np.where(clf.y_test[i] == 0.)[0]) == 3 and x >= threshold)],\n",
    "                        reverse=True)]\n",
    "\n",
    "show_worst_of_one_kind(worst_indices_single_02,\n",
    "                       spectra = [len(worst_indices_single_02)-10,\n",
    "                                  len(worst_indices_single_02)])\n",
    "\n",
    "print('{0} of {1} test samples with single species ({2}%) have a mean absolute error of of at least {3}.'.format(\n",
    "    str(len(worst_indices_single_02)),\n",
    "    str(len(worst_indices_single)),\n",
    "    str(100*(np.around(len(worst_indices_single_02)/len(worst_indices_single), decimals = 3))),\n",
    "    str(threshold)))"
   ]
  },
  {
   "cell_type": "code",
   "execution_count": null,
   "metadata": {
    "id": "TQBWOw2HQWcP"
   },
   "outputs": [],
   "source": [
    "threshold = 0.05\n",
    "worst_indices_single_03 = [j[1] for j in sorted([(x,i) for (i,x) in \\\n",
    "                        enumerate(mae_losses) if (len(np.where(clf.y_test[i] == 0.)[0]) == 3 and x >= threshold)],\n",
    "                        reverse=True)]\n",
    "\n",
    "show_worst_of_one_kind(worst_indices_single_03,\n",
    "                       spectra = [len(worst_indices_single_03)-10,\n",
    "                                  len(worst_indices_single_03)])\n",
    "\n",
    "print('{0} of {1} test samples with single species ({2}%) have a mean absolute error of of at least {3}.'.format(\n",
    "    str(len(worst_indices_single_03)),\n",
    "    str(len(worst_indices_single)),\n",
    "    str(100*(np.around(len(worst_indices_single_03)/len(worst_indices_single), decimals = 3))),\n",
    "    str(threshold)))"
   ]
  },
  {
   "cell_type": "code",
   "execution_count": null,
   "metadata": {
    "id": "xF6stdxJhx0X"
   },
   "outputs": [],
   "source": [
    "threshold = 0.02\n",
    "worst_indices_single_04 = [j[1] for j in sorted([(x,i) for (i,x) in \\\n",
    "                        enumerate(mae_losses) if (len(np.where(clf.y_test[i] == 0.)[0]) == 3 and x >= threshold)],\n",
    "                        reverse=True)]\n",
    "\n",
    "show_worst_of_one_kind(worst_indices_single_04,\n",
    "                       spectra = [len(worst_indices_single_04)-10,\n",
    "                                  len(worst_indices_single_04)])\n",
    "\n",
    "print('{0} of {1} test samples with single species ({2}%) have a mean absolute error of of at least {3}.'.format(\n",
    "    str(len(worst_indices_single_04)),\n",
    "    str(len(worst_indices_single)),\n",
    "    str(100*(np.around(len(worst_indices_single_04)/len(worst_indices_single), decimals = 3))),\n",
    "    str(threshold)))"
   ]
  },
  {
   "cell_type": "code",
   "execution_count": null,
   "metadata": {
    "id": "sxIL7JyWh5lJ"
   },
   "outputs": [],
   "source": [
    "threshold = 0.01\n",
    "worst_indices_single_05 = [j[1] for j in sorted([(x,i) for (i,x) in \\\n",
    "                        enumerate(mae_losses) if (len(np.where(clf.y_test[i] == 0.)[0]) == 3 and x >= threshold)],\n",
    "                        reverse=True)]\n",
    "\n",
    "show_worst_of_one_kind(worst_indices_single_05,\n",
    "                       spectra = [len(worst_indices_single_05)-10,\n",
    "                                  len(worst_indices_single_05)])\n",
    "\n",
    "print('{0} of {1} test samples with single species ({2}%) have a mean absolute error of of at least {3}.'.format(\n",
    "    str(len(worst_indices_single_05)),\n",
    "    str(len(worst_indices_single)),\n",
    "    str(100*(np.around(len(worst_indices_single_05)/len(worst_indices_single), decimals = 3))),\n",
    "    str(threshold)))"
   ]
  },
  {
   "cell_type": "markdown",
   "metadata": {
    "id": "f1SFBLGWN0H7"
   },
   "source": [
    "### Show worst predictions for linearly combined spectra"
   ]
  },
  {
   "cell_type": "code",
   "execution_count": null,
   "metadata": {
    "colab": {
     "base_uri": "https://localhost:8080/",
     "height": 838
    },
    "executionInfo": {
     "elapsed": 4795,
     "status": "ok",
     "timestamp": 1611591084290,
     "user": {
      "displayName": "Lukas Pielsticker",
      "photoUrl": "",
      "userId": "09713923278611487525"
     },
     "user_tz": -60
    },
    "id": "v-KD8MetN0H-",
    "outputId": "79a5b28d-7f02-47c4-a597-f7ca5113b234"
   },
   "outputs": [],
   "source": [
    "worst_indices_multiple = [j[1] for j in sorted([(x,i) for (i,x) in \\\n",
    "                          enumerate(mae_losses) if len(np.where(clf.y_test[i] == 0.)[0]) != 3],\n",
    "                          reverse=True)] \n",
    "show_worst_of_one_kind(worst_indices_multiple, spectra = [0,20])"
   ]
  },
  {
   "cell_type": "markdown",
   "metadata": {
    "id": "VcGjmYh52-xA"
   },
   "source": [
    "### Show worst predictions for different loss thresholds (linearly combined spectra)"
   ]
  },
  {
   "cell_type": "code",
   "execution_count": null,
   "metadata": {
    "colab": {
     "base_uri": "https://localhost:8080/"
    },
    "executionInfo": {
     "elapsed": 531,
     "status": "ok",
     "timestamp": 1611591100152,
     "user": {
      "displayName": "Lukas Pielsticker",
      "photoUrl": "",
      "userId": "09713923278611487525"
     },
     "user_tz": -60
    },
    "id": "y9aHI-UI2T_E",
    "outputId": "75eadbec-4714-43db-9894-ffefc41d5fb4"
   },
   "outputs": [],
   "source": [
    "threshold = 0.3\n",
    "worst_indices_multiple_01 = [j[1] for j in sorted([(x,i) for (i,x) in \\\n",
    "                             enumerate(mae_losses) if (len(np.where(clf.y_test[i] == 0.)[0]) != 3 and x >= threshold)],\n",
    "                             reverse=True)]  \n",
    "                                             \n",
    "show_worst_of_one_kind(worst_indices_multiple_01,\n",
    "                       spectra = [len(worst_indices_multiple_01)-10,\n",
    "                                 len(worst_indices_multiple_01)])\n",
    "\n",
    "print('{0} of {1} test samples with multiple species ({2}%) have a mean absolute error of of at least {3}.'.format(\n",
    "    str(len(worst_indices_multiple_01)),\n",
    "    str(len(worst_indices_multiple)),\n",
    "    str(100*(np.around(len(worst_indices_multiple_01)/len(worst_indices_multiple), decimals = 3))),\n",
    "    str(threshold)))"
   ]
  },
  {
   "cell_type": "code",
   "execution_count": null,
   "metadata": {
    "colab": {
     "base_uri": "https://localhost:8080/"
    },
    "executionInfo": {
     "elapsed": 557,
     "status": "ok",
     "timestamp": 1611591103712,
     "user": {
      "displayName": "Lukas Pielsticker",
      "photoUrl": "",
      "userId": "09713923278611487525"
     },
     "user_tz": -60
    },
    "id": "Vt_flT9Jwkpd",
    "outputId": "86e324a0-e17f-4207-b1b7-b833cb8f222e"
   },
   "outputs": [],
   "source": [
    "threshold = 0.2\n",
    "worst_indices_multiple_02 = [j[1] for j in sorted([(x,i) for (i,x) in \\\n",
    "                            enumerate(mae_losses) if (len(np.where(clf.y_test[i] == 0.)[0]) != 3 and x >= threshold)],\n",
    "                            reverse=True)]     \n",
    "\n",
    "show_worst_of_one_kind(worst_indices_multiple_02,\n",
    "                           spectra = [len(worst_indices_multiple_02)-10,\n",
    "                                      len(worst_indices_multiple_02)])\n",
    "\n",
    "\n",
    "print('{0} of {1} test samples with multiple species ({2}%) have a mean absolute error of of at least {3}.'.format(\n",
    "    str(len(worst_indices_multiple_02)),\n",
    "    str(len(worst_indices_multiple)),\n",
    "    str(100*(np.around(len(worst_indices_multiple_02)/len(worst_indices_multiple), decimals = 3))),\n",
    "    str(threshold)))"
   ]
  },
  {
   "cell_type": "code",
   "execution_count": null,
   "metadata": {
    "colab": {
     "base_uri": "https://localhost:8080/",
     "height": 407
    },
    "executionInfo": {
     "elapsed": 2717,
     "status": "ok",
     "timestamp": 1611591108947,
     "user": {
      "displayName": "Lukas Pielsticker",
      "photoUrl": "",
      "userId": "09713923278611487525"
     },
     "user_tz": -60
    },
    "id": "oes3kYB1QJUH",
    "outputId": "63b6976a-66a3-4734-ee56-2f74424cdb4c"
   },
   "outputs": [],
   "source": [
    "threshold = 0.1\n",
    "worst_indices_multiple_03 = [j[1] for j in sorted([(x,i) for (i,x) in \\\n",
    "                             enumerate(mae_losses) if (len(np.where(clf.y_test[i] == 0.)[0]) != 3 and x >= threshold)],\n",
    "                             reverse=True)]                  \n",
    "\n",
    "if (len(worst_indices_multiple_03)) > 10:\n",
    "    show_worst_of_one_kind(worst_indices_multiple_03,\n",
    "                           spectra = [len(worst_indices_multiple_03)-10,\n",
    "                                      len(worst_indices_multiple_03)])\n",
    "else:\n",
    "    show_worst_of_one_kind(worst_indices_multiple_03,\n",
    "                           spectra = [0,\n",
    "                                      len(worst_indices_multiple_03)])\n",
    "\n",
    "print('{0} of {1} test samples with multiple species ({2}%) have a mean absolute error of of at least {3}.'.format(\n",
    "    str(len(worst_indices_multiple_03)),\n",
    "    str(len(worst_indices_multiple)),\n",
    "    str(100*(np.around(len(worst_indices_multiple_03)/len(worst_indices_multiple), decimals = 3))),\n",
    "    str(threshold)))"
   ]
  },
  {
   "cell_type": "code",
   "execution_count": null,
   "metadata": {
    "colab": {
     "base_uri": "https://localhost:8080/",
     "height": 407
    },
    "executionInfo": {
     "elapsed": 2791,
     "status": "ok",
     "timestamp": 1611591245908,
     "user": {
      "displayName": "Lukas Pielsticker",
      "photoUrl": "",
      "userId": "09713923278611487525"
     },
     "user_tz": -60
    },
    "id": "MAcuiXMmebbh",
    "outputId": "b4818ac8-6f5e-418c-d3d1-ad0570e6bf50"
   },
   "outputs": [],
   "source": [
    "threshold = 0.05\n",
    "worst_indices_multiple_04 = [j[1] for j in sorted([(x,i) for (i,x) in \\\n",
    "                             enumerate(mae_losses) if (len(np.where(clf.y_test[i] == 0.)[0]) != 3 and x >= threshold)],\n",
    "                             reverse=True)]                  \n",
    "\n",
    "if (len(worst_indices_multiple_04)) > 10:\n",
    "    show_worst_of_one_kind(worst_indices_multiple_04,\n",
    "                           spectra = [len(worst_indices_multiple_04)-10,\n",
    "                                      len(worst_indices_multiple_04)])\n",
    "else:\n",
    "    show_worst_of_one_kind(worst_indices_multiple_04,\n",
    "                           spectra = [0,\n",
    "                                      len(worst_indices_multiple_04)])\n",
    "\n",
    "print('{0} of {1} test samples with multiple species ({2}%) have a mean absolute error of of at least {3}.'.format(\n",
    "    str(len(worst_indices_multiple_04)),\n",
    "    str(len(worst_indices_multiple)),\n",
    "    str(100*(np.around(len(worst_indices_multiple_04)/len(worst_indices_multiple), decimals = 3))),\n",
    "    str(threshold)))"
   ]
  },
  {
   "cell_type": "code",
   "execution_count": null,
   "metadata": {
    "colab": {
     "base_uri": "https://localhost:8080/",
     "height": 410
    },
    "executionInfo": {
     "elapsed": 2777,
     "status": "ok",
     "timestamp": 1611591116616,
     "user": {
      "displayName": "Lukas Pielsticker",
      "photoUrl": "",
      "userId": "09713923278611487525"
     },
     "user_tz": -60
    },
    "id": "OQvptZsPMmsQ",
    "outputId": "9136fe55-b719-4048-9977-3493c23f0577"
   },
   "outputs": [],
   "source": [
    "threshold = 0.025\n",
    "worst_indices_multiple_05 = [j[1] for j in sorted([(x,i) for (i,x) in \\\n",
    "                             enumerate(mae_losses) if (len(np.where(clf.y_test[i] == 0.)[0]) != 3 and x >= threshold)],\n",
    "                             reverse=True)]                  \n",
    "\n",
    "if (len(worst_indices_multiple_05)) > 10:\n",
    "    show_worst_of_one_kind(worst_indices_multiple_05,\n",
    "                           spectra = [len(worst_indices_multiple_05)-10,\n",
    "                                      len(worst_indices_multiple_05)])\n",
    "else:\n",
    "    show_worst_of_one_kind(worst_indices_multiple_05,\n",
    "                           spectra = [0,\n",
    "                                      len(worst_indices_multiple_05)])\n",
    "\n",
    "print('{0} of {1} test samples with multiple species ({2}%) have a mean absolute error of of at least {3}.'.format(\n",
    "    str(len(worst_indices_multiple_05)),\n",
    "    str(len(worst_indices_multiple)),\n",
    "    str(100*(np.around(len(worst_indices_multiple_05)/len(worst_indices_multiple), decimals = 3))),\n",
    "    str(threshold)))"
   ]
  },
  {
   "cell_type": "code",
   "execution_count": null,
   "metadata": {
    "colab": {
     "base_uri": "https://localhost:8080/",
     "height": 407
    },
    "executionInfo": {
     "elapsed": 3300,
     "status": "ok",
     "timestamp": 1611591127429,
     "user": {
      "displayName": "Lukas Pielsticker",
      "photoUrl": "",
      "userId": "09713923278611487525"
     },
     "user_tz": -60
    },
    "id": "sicI9PkZMywX",
    "outputId": "ae5ae3ea-6b3f-4f92-df56-0a2b697396fc"
   },
   "outputs": [],
   "source": [
    "threshold = 0.01\n",
    "worst_indices_multiple_06 = [j[1] for j in sorted([(x,i) for (i,x) in \\\n",
    "                             enumerate(mae_losses) if (len(np.where(clf.y_test[i] == 0.)[0]) != 3 and x >= threshold)],\n",
    "                             reverse=True)]                  \n",
    "\n",
    "if (len(worst_indices_multiple_06)) > 10:\n",
    "    show_worst_of_one_kind(worst_indices_multiple_06,\n",
    "                           spectra = [len(worst_indices_multiple_06)-10,\n",
    "                                      len(worst_indices_multiple_06)])\n",
    "else:\n",
    "    show_worst_of_one_kind(worst_indices_multiple_06,\n",
    "                           spectra = [0,\n",
    "                                      len(worst_indices_multiple_06)])\n",
    "\n",
    "print('{0} of {1} test samples with multiple species ({2}%) have a mean absolute error of of at least {3}.'.format(\n",
    "    str(len(worst_indices_multiple_06)),\n",
    "    str(len(worst_indices_multiple)),\n",
    "    str(100*(np.around(len(worst_indices_multiple_06)/len(worst_indices_multiple), decimals = 3))),\n",
    "    str(threshold)))"
   ]
  },
  {
   "cell_type": "code",
   "execution_count": null,
   "metadata": {
    "colab": {
     "base_uri": "https://localhost:8080/",
     "height": 407
    },
    "executionInfo": {
     "elapsed": 2786,
     "status": "ok",
     "timestamp": 1611591140927,
     "user": {
      "displayName": "Lukas Pielsticker",
      "photoUrl": "",
      "userId": "09713923278611487525"
     },
     "user_tz": -60
    },
    "id": "zTsMl5P4GfBy",
    "outputId": "323848c5-302b-4506-ebb9-986ca77a7f7a"
   },
   "outputs": [],
   "source": [
    "threshold = 0.005\n",
    "worst_indices_multiple_07 = [j[1] for j in sorted([(x,i) for (i,x) in \\\n",
    "                             enumerate(mae_losses) if (len(np.where(clf.y_test[i] == 0.)[0]) != 3 and x >= threshold)],\n",
    "                             reverse=True)]                  \n",
    "\n",
    "if (len(worst_indices_multiple_07)) > 10:\n",
    "    show_worst_of_one_kind(worst_indices_multiple_07,\n",
    "                           spectra = [len(worst_indices_multiple_07)-10,\n",
    "                                      len(worst_indices_multiple_07)])\n",
    "else:\n",
    "    show_worst_of_one_kind(worst_indices_multiple_07,\n",
    "                           spectra = [0,\n",
    "                                      len(worst_indices_multiple_07)])\n",
    "\n",
    "print('{0} of {1} test samples with multiple species ({2}%) have a mean absolute error of of at least {3}.'.format(\n",
    "    str(len(worst_indices_multiple_07)),\n",
    "    str(len(worst_indices_multiple)),\n",
    "    str(100*(np.around(len(worst_indices_multiple_07)/len(worst_indices_multiple), decimals = 3))),\n",
    "    str(threshold)))"
   ]
  },
  {
   "cell_type": "markdown",
   "metadata": {
    "id": "usMyKiMf8r4J"
   },
   "source": [
    "### Show worst predictions for all"
   ]
  },
  {
   "cell_type": "code",
   "execution_count": null,
   "metadata": {
    "colab": {
     "base_uri": "https://localhost:8080/",
     "height": 838
    },
    "executionInfo": {
     "elapsed": 4914,
     "status": "ok",
     "timestamp": 1611591147892,
     "user": {
      "displayName": "Lukas Pielsticker",
      "photoUrl": "",
      "userId": "09713923278611487525"
     },
     "user_tz": -60
    },
    "id": "0hJJyzHf8r4Q",
    "outputId": "b3e220f9-6716-413b-8578-9d3e5b74d359"
   },
   "outputs": [],
   "source": [
    "worst_indices = [j[1] for j in sorted([(x,i) for (i,x) in enumerate(mae_losses)],\n",
    "                          reverse=True)] \n",
    "show_worst_of_one_kind(worst_indices, spectra = [0,20])"
   ]
  },
  {
   "cell_type": "markdown",
   "metadata": {
    "id": "sc0Xobv38r4U"
   },
   "source": [
    "### Show worst predictions for different loss thresholds (all spectra)"
   ]
  },
  {
   "cell_type": "code",
   "execution_count": null,
   "metadata": {
    "colab": {
     "base_uri": "https://localhost:8080/"
    },
    "executionInfo": {
     "elapsed": 824,
     "status": "ok",
     "timestamp": 1611591149702,
     "user": {
      "displayName": "Lukas Pielsticker",
      "photoUrl": "",
      "userId": "09713923278611487525"
     },
     "user_tz": -60
    },
    "id": "NnnL1TOz8r4V",
    "outputId": "67633303-f24d-4810-f7c1-08feafa69cc9"
   },
   "outputs": [],
   "source": [
    "threshold = 0.3\n",
    "worst_indices_01 = [j[1] for j in sorted([(x,i) for (i,x) in \\\n",
    "                                          enumerate(mae_losses) if x >= threshold],\n",
    "                             reverse=True)]  \n",
    "                                             \n",
    "show_worst_of_one_kind(worst_indices_01,\n",
    "                       spectra = [len(worst_indices_01)-10,\n",
    "                                  len(worst_indices_01)])\n",
    "\n",
    "print('{0} of {1} test samples ({2}%) have a mean absolute error of of at least {3}.'.format(\n",
    "    str(len(worst_indices_01)),\n",
    "    str(len(worst_indices)),\n",
    "    str(100*(np.around(len(worst_indices_01)/len(worst_indices), decimals = 3))),\n",
    "    str(threshold)))"
   ]
  },
  {
   "cell_type": "code",
   "execution_count": null,
   "metadata": {
    "colab": {
     "base_uri": "https://localhost:8080/"
    },
    "executionInfo": {
     "elapsed": 540,
     "status": "ok",
     "timestamp": 1611591152584,
     "user": {
      "displayName": "Lukas Pielsticker",
      "photoUrl": "",
      "userId": "09713923278611487525"
     },
     "user_tz": -60
    },
    "id": "yksIvAtk8r4X",
    "outputId": "571a2811-9fea-437a-c0f1-94f1bd991021"
   },
   "outputs": [],
   "source": [
    "threshold = 0.2\n",
    "worst_indices_02 = [j[1] for j in sorted([(x,i) for (i,x) in \\\n",
    "                                          enumerate(mae_losses) if x >= threshold],\n",
    "                             reverse=True)]  \n",
    "                                             \n",
    "show_worst_of_one_kind(worst_indices_02,\n",
    "                       spectra = [len(worst_indices_02)-10,\n",
    "                                  len(worst_indices_02)])\n",
    "\n",
    "print('{0} of {1} test samples ({2}%) have a mean absolute error of of at least {3}.'.format(\n",
    "    str(len(worst_indices_02)),\n",
    "    str(len(worst_indices)),\n",
    "    str(100*(np.around(len(worst_indices_02)/len(worst_indices), decimals = 3))),\n",
    "    str(threshold)))"
   ]
  },
  {
   "cell_type": "code",
   "execution_count": null,
   "metadata": {
    "colab": {
     "base_uri": "https://localhost:8080/",
     "height": 407
    },
    "executionInfo": {
     "elapsed": 2923,
     "status": "ok",
     "timestamp": 1611591157027,
     "user": {
      "displayName": "Lukas Pielsticker",
      "photoUrl": "",
      "userId": "09713923278611487525"
     },
     "user_tz": -60
    },
    "id": "k_QSwqxL8r4Z",
    "outputId": "46ad05a6-04f3-4a2b-889e-60dc8cf0e863"
   },
   "outputs": [],
   "source": [
    "threshold = 0.1\n",
    "worst_indices_03 = [j[1] for j in sorted([(x,i) for (i,x) in \\\n",
    "                                          enumerate(mae_losses) if x >= threshold],\n",
    "                             reverse=True)]                 \n",
    "\n",
    "if (len(worst_indices_03)) > 10:\n",
    "    show_worst_of_one_kind(worst_indices_03,\n",
    "                           spectra = [len(worst_indices_03)-10,\n",
    "                                      len(worst_indices_03)])\n",
    "else:\n",
    "    show_worst_of_one_kind(worst_indices_03,\n",
    "                           spectra = [0,\n",
    "                                      len(worst_indices_03)])\n",
    "\n",
    "print('{0} of {1} test samples ({2}%) have a mean absolute error of of at least {3}.'.format(\n",
    "    str(len(worst_indices_03)),\n",
    "    str(len(worst_indices)),\n",
    "    str(100*(np.around(len(worst_indices_03)/len(worst_indices), decimals = 3))),\n",
    "    str(threshold)))"
   ]
  },
  {
   "cell_type": "code",
   "execution_count": null,
   "metadata": {
    "colab": {
     "base_uri": "https://localhost:8080/",
     "height": 407
    },
    "executionInfo": {
     "elapsed": 2647,
     "status": "ok",
     "timestamp": 1611591166719,
     "user": {
      "displayName": "Lukas Pielsticker",
      "photoUrl": "",
      "userId": "09713923278611487525"
     },
     "user_tz": -60
    },
    "id": "mJb1n5ZK8r4c",
    "outputId": "3b44cf70-bdf7-47fe-9ee2-5943b3628468"
   },
   "outputs": [],
   "source": [
    "threshold = 0.05\n",
    "worst_indices_04 = [j[1] for j in sorted([(x,i) for (i,x) in \\\n",
    "                                          enumerate(mae_losses) if x >= threshold],\n",
    "                             reverse=True)]                 \n",
    "\n",
    "if (len(worst_indices_04)) > 10:\n",
    "    show_worst_of_one_kind(worst_indices_04,\n",
    "                           spectra = [len(worst_indices_04)-10,\n",
    "                                      len(worst_indices_04)])\n",
    "else:\n",
    "    show_worst_of_one_kind(worst_indices_04,\n",
    "                           spectra = [0,\n",
    "                                      len(worst_indices_04)])\n",
    "\n",
    "print('{0} of {1} test samples ({2}%) have a mean absolute error of of at least {3}.'.format(\n",
    "    str(len(worst_indices_04)),\n",
    "    str(len(worst_indices)),\n",
    "    str(100*(np.around(len(worst_indices_04)/len(worst_indices), decimals = 3))),\n",
    "    str(threshold)))"
   ]
  },
  {
   "cell_type": "code",
   "execution_count": null,
   "metadata": {
    "colab": {
     "base_uri": "https://localhost:8080/",
     "height": 410
    },
    "executionInfo": {
     "elapsed": 3148,
     "status": "ok",
     "timestamp": 1611591177835,
     "user": {
      "displayName": "Lukas Pielsticker",
      "photoUrl": "",
      "userId": "09713923278611487525"
     },
     "user_tz": -60
    },
    "id": "rh58Cmr58r4e",
    "outputId": "d84164f5-828c-4ec4-aba5-e5f8ecd04637"
   },
   "outputs": [],
   "source": [
    "threshold = 0.025\n",
    "worst_indices_05 = [j[1] for j in sorted([(x,i) for (i,x) in \\\n",
    "                                          enumerate(mae_losses) if x >= threshold],\n",
    "                             reverse=True)]                 \n",
    "\n",
    "if (len(worst_indices_05)) > 10:\n",
    "    show_worst_of_one_kind(worst_indices_05,\n",
    "                           spectra = [len(worst_indices_05)-10,\n",
    "                                      len(worst_indices_05)])\n",
    "else:\n",
    "    show_worst_of_one_kind(worst_indices_05,\n",
    "                           spectra = [0,\n",
    "                                      len(worst_indices_05)])\n",
    "\n",
    "print('{0} of {1} test samples ({2}%) have a mean absolute error of of at least {3}.'.format(\n",
    "    str(len(worst_indices_05)),\n",
    "    str(len(worst_indices)),\n",
    "    str(100*(np.around(len(worst_indices_05)/len(worst_indices), decimals = 3))),\n",
    "    str(threshold)))"
   ]
  },
  {
   "cell_type": "code",
   "execution_count": null,
   "metadata": {
    "colab": {
     "base_uri": "https://localhost:8080/",
     "height": 407
    },
    "executionInfo": {
     "elapsed": 3148,
     "status": "ok",
     "timestamp": 1611591189630,
     "user": {
      "displayName": "Lukas Pielsticker",
      "photoUrl": "",
      "userId": "09713923278611487525"
     },
     "user_tz": -60
    },
    "id": "LcxApkJb8r4g",
    "outputId": "8f7b9f36-bc0b-4d0c-b95f-4be63a36a12a"
   },
   "outputs": [],
   "source": [
    "threshold = 0.01\n",
    "worst_indices_06 = [j[1] for j in sorted([(x,i) for (i,x) in \\\n",
    "                                          enumerate(mae_losses) if x >= threshold],\n",
    "                             reverse=True)]                 \n",
    "\n",
    "if (len(worst_indices_06)) > 10:\n",
    "    show_worst_of_one_kind(worst_indices_06,\n",
    "                           spectra = [len(worst_indices_06)-10,\n",
    "                                      len(worst_indices_06)])\n",
    "else:\n",
    "    show_worst_of_one_kind(worst_indices_06,\n",
    "                           spectra = [0,\n",
    "                                      len(worst_indices_06)])\n",
    "\n",
    "print('{0} of {1} test samples ({2}%) have a mean absolute error of of at least {3}.'.format(\n",
    "    str(len(worst_indices_06)),\n",
    "    str(len(worst_indices)),\n",
    "    str(100*(np.around(len(worst_indices_06)/len(worst_indices), decimals = 3))),\n",
    "    str(threshold)))"
   ]
  },
  {
   "cell_type": "code",
   "execution_count": null,
   "metadata": {
    "id": "WDEkxyxDG9sL"
   },
   "outputs": [],
   "source": [
    "threshold = 0.005\n",
    "worst_indices_07 = [j[1] for j in sorted([(x,i) for (i,x) in \\\n",
    "                                          enumerate(mae_losses) if x >= threshold],\n",
    "                             reverse=True)]                 \n",
    "\n",
    "if (len(worst_indices_07)) > 10:\n",
    "    show_worst_of_one_kind(worst_indices_07,\n",
    "                           spectra = [len(worst_indices_07)-10,\n",
    "                                      len(worst_indices_07)])\n",
    "else:\n",
    "    show_worst_of_one_kind(worst_indices_07,\n",
    "                           spectra = [0,\n",
    "                                      len(worst_indices_07)])\n",
    "\n",
    "print('{0} of {1} test samples ({2}%) have a mean absolute error of of at least {3}.'.format(\n",
    "    str(len(worst_indices_07)),\n",
    "    str(len(worst_indices)),\n",
    "    str(100*(np.around(len(worst_indices_07)/len(worst_indices), decimals = 3))),\n",
    "    str(threshold)))"
   ]
  },
  {
   "cell_type": "code",
   "execution_count": null,
   "metadata": {
    "id": "855cEFuqHD3I"
   },
   "outputs": [],
   "source": [
    "threshold = 0.001\n",
    "worst_indices_08 = [j[1] for j in sorted([(x,i) for (i,x) in \\\n",
    "                                          enumerate(mae_losses) if x >= threshold],\n",
    "                             reverse=True)]                 \n",
    "\n",
    "if (len(worst_indices_08)) > 10:\n",
    "    show_worst_of_one_kind(worst_indices_08,\n",
    "                           spectra = [len(worst_indices_08)-10,\n",
    "                                      len(worst_indices_08)])\n",
    "else:\n",
    "    show_worst_of_one_kind(worst_indices_08,\n",
    "                           spectra = [0,\n",
    "                                      len(worst_indices_08)])\n",
    "\n",
    "print('{0} of {1} test samples ({2}%) have a mean absolute error of of at least {3}.'.format(\n",
    "    str(len(worst_indices_08)),\n",
    "    str(len(worst_indices)),\n",
    "    str(100*(np.around(len(worst_indices_08)/len(worst_indices), decimals = 3))),\n",
    "    str(threshold)))"
   ]
  },
  {
   "cell_type": "code",
   "execution_count": null,
   "metadata": {
    "id": "QZrxmmsTjFt-"
   },
   "outputs": [],
   "source": [
    "threshold = 0.0005\n",
    "worst_indices_09 = [j[1] for j in sorted([(x,i) for (i,x) in \\\n",
    "                                          enumerate(mae_losses) if x >= threshold],\n",
    "                             reverse=True)]                 \n",
    "\n",
    "if (len(worst_indices_09)) > 10:\n",
    "    show_worst_of_one_kind(worst_indices_09,\n",
    "                           spectra = [len(worst_indices_09)-10,\n",
    "                                      len(worst_indices_09)])\n",
    "else:\n",
    "    show_worst_of_one_kind(worst_indices_09,\n",
    "                           spectra = [0,\n",
    "                                      len(worst_indices_09)])\n",
    "\n",
    "print('{0} of {1} test samples ({2}%) have a mean absolute error of of at least {3}.'.format(\n",
    "    str(len(worst_indices_09)),\n",
    "    str(len(worst_indices)),\n",
    "    str(100*(np.around(len(worst_indices_09)/len(worst_indices), decimals = 3))),\n",
    "    str(threshold)))"
   ]
  },
  {
   "cell_type": "code",
   "execution_count": null,
   "metadata": {
    "id": "pr8ycdnJcuFo"
   },
   "outputs": [],
   "source": [
    "threshold = 0.00025\n",
    "worst_indices_10 = [j[1] for j in sorted([(x,i) for (i,x) in \\\n",
    "                                          enumerate(mae_losses) if x >= threshold],\n",
    "                             reverse=True)]                 \n",
    "\n",
    "if (len(worst_indices_10)) > 10:\n",
    "    show_worst_of_one_kind(worst_indices_10,\n",
    "                           spectra = [len(worst_indices_10)-10,\n",
    "                                      len(worst_indices_10)])\n",
    "else:\n",
    "    show_worst_of_one_kind(worst_indices_10,\n",
    "                           spectra = [0,\n",
    "                                      len(worst_indices_10)])\n",
    "\n",
    "print('{0} of {1} test samples ({2}%) have a mean absolute error of of at least {3}.'.format(\n",
    "    str(len(worst_indices_10)),\n",
    "    str(len(worst_indices)),\n",
    "    str(100*(np.around(len(worst_indices_10)/len(worst_indices), decimals = 3))),\n",
    "    str(threshold)))"
   ]
  },
  {
   "cell_type": "code",
   "execution_count": null,
   "metadata": {
    "id": "RcJyfET5c6hY"
   },
   "outputs": [],
   "source": [
    "threshold = 0.0001\n",
    "worst_indices_11 = [j[1] for j in sorted([(x,i) for (i,x) in \\\n",
    "                                          enumerate(mae_losses) if x >= threshold],\n",
    "                             reverse=True)]                 \n",
    "\n",
    "if (len(worst_indices_11)) > 10:\n",
    "    show_worst_of_one_kind(worst_indices_11,\n",
    "                           spectra = [len(worst_indices_11)-10,\n",
    "                                      len(worst_indices_11)])\n",
    "else:\n",
    "    show_worst_of_one_kind(worst_indices_11,\n",
    "                           spectra = [0,\n",
    "                                      len(worst_indices_11)])\n",
    "\n",
    "print('{0} of {1} test samples ({2}%) have a mean absolute error of of at least {3}.'.format(\n",
    "    str(len(worst_indices_11)),\n",
    "    str(len(worst_indices)),\n",
    "    str(100*(np.around(len(worst_indices_11)/len(worst_indices), decimals = 3))),\n",
    "    str(threshold)))"
   ]
  },
  {
   "cell_type": "code",
   "execution_count": null,
   "metadata": {
    "id": "z4iu_gO-dDfj"
   },
   "outputs": [],
   "source": [
    "threshold = 0.00001\n",
    "worst_indices_12 = [j[1] for j in sorted([(x,i) for (i,x) in \\\n",
    "                                          enumerate(mae_losses) if x >= threshold],\n",
    "                             reverse=True)]\n",
    "\n",
    "if (len(worst_indices_12)) > 10:\n",
    "    show_worst_of_one_kind(worst_indices_12,\n",
    "                           spectra = [len(worst_indices_12)-10,\n",
    "                                      len(worst_indices_12)])\n",
    "else:\n",
    "    show_worst_of_one_kind(worst_indices_12,\n",
    "                           spectra = [0,\n",
    "                                      len(worst_indices_12)])\n",
    "\n",
    "print('{0} of {1} test samples ({2}%) have a mean absolute error of of at least {3}.'.format(\n",
    "    str(len(worst_indices_12)),\n",
    "    str(len(worst_indices)),\n",
    "    str(100*(np.around(len(worst_indices_12)/len(worst_indices), decimals = 3))),\n",
    "    str(threshold)))"
   ]
  },
  {
   "cell_type": "markdown",
   "metadata": {
    "id": "Pk-dt26OLwHE"
   },
   "source": [
    "## Save output of notebook"
   ]
  },
  {
   "cell_type": "code",
   "execution_count": null,
   "metadata": {
    "colab": {
     "base_uri": "https://localhost:8080/",
     "height": 51
    },
    "executionInfo": {
     "elapsed": 52173,
     "status": "ok",
     "timestamp": 1611596124918,
     "user": {
      "displayName": "Lukas Pielsticker",
      "photoUrl": "",
      "userId": "09713923278611487525"
     },
     "user_tz": -60
    },
    "id": "mkSdyElDLwHF",
    "outputId": "428b301e-275f-461c-c963-450d40ffb03d"
   },
   "outputs": [],
   "source": [
    "from IPython.display import Javascript, display\n",
    "from nbconvert import HTMLExporter\n",
    "\n",
    "def save_notebook():\n",
    "    display(Javascript(\"IPython.notebook.save_notebook()\"),\n",
    "            include=['application/javascript'])\n",
    "\n",
    "def output_HTML(read_file, output_file):\n",
    "    import codecs\n",
    "    import nbformat\n",
    "    exporter = HTMLExporter()\n",
    "    # read_file is '.ipynb', output_file is '.html'\n",
    "    output_notebook = nbformat.read(read_file, as_version=4)\n",
    "    output, resources = exporter.from_notebook_node(output_notebook)\n",
    "    codecs.open(output_file, 'w', encoding='utf-8').write(output)\n",
    "\n",
    "import time\n",
    "import os\n",
    "\n",
    "time.sleep(20)\n",
    "save_notebook()\n",
    "print('Notebook saved!')\n",
    "time.sleep(30)\n",
    "current_file = '/content/drive/My Drive/app/xpsdeeplearning/predict_unknown_multiple.ipynb'\n",
    "output_file = os.path.join(clf.log_dir,'predict_unknown_multiple_out.html')\n",
    "output_HTML(current_file, output_file)\n",
    "print('HTML file saved!')"
   ]
  }
 ],
 "metadata": {
  "colab": {
   "collapsed_sections": [],
   "name": "predict_unknown_multiple.ipynb",
   "provenance": [
    {
     "file_id": "11ylwc5fbtez_ioNMNpipXFdUVXsPQjNR",
     "timestamp": 1594299856264
    }
   ]
  },
  "kernelspec": {
   "display_name": "Python 3",
   "language": "python",
   "name": "python3"
  },
  "language_info": {
   "codemirror_mode": {
    "name": "ipython",
    "version": 3
   },
   "file_extension": ".py",
   "mimetype": "text/x-python",
   "name": "python",
   "nbconvert_exporter": "python",
   "pygments_lexer": "ipython3",
   "version": "3.8.0"
  }
 },
 "nbformat": 4,
 "nbformat_minor": 1
}
