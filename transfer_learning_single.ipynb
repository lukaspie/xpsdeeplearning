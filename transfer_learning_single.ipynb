{
 "cells": [
  {
   "cell_type": "markdown",
   "metadata": {
    "colab_type": "text",
    "id": "oPGLBeegScnA"
   },
   "source": [
    "# Transfer learning of a deep CNN on XPS data on Google Colab"
   ]
  },
  {
   "cell_type": "markdown",
   "metadata": {
    "colab_type": "text",
    "id": "RRREhRgTGcpj"
   },
   "source": [
    "In this notebook, we will use transfer learning for training a deep convolutional network on new XPS spectra using a pre-trained model. Using Google Colab."
   ]
  },
  {
   "cell_type": "markdown",
   "metadata": {
    "colab_type": "text",
    "id": "1JaT35fVScnE"
   },
   "source": [
    "## Setup"
   ]
  },
  {
   "cell_type": "markdown",
   "metadata": {
    "colab_type": "text",
    "id": "RhTE6Ds7Ga8_"
   },
   "source": [
    "### Mount google drive, change working directory"
   ]
  },
  {
   "cell_type": "code",
   "execution_count": null,
   "metadata": {
    "colab": {
     "base_uri": "https://localhost:8080/",
     "height": 34
    },
    "colab_type": "code",
    "executionInfo": {
     "elapsed": 1732,
     "status": "ok",
     "timestamp": 1593470641624,
     "user": {
      "displayName": "Lukas Pielsticker",
      "photoUrl": "",
      "userId": "09713923278611487525"
     },
     "user_tz": -120
    },
    "id": "KXZi_ArNGa9A",
    "outputId": "60f89759-d48f-4212-f410-42ad1785afd1"
   },
   "outputs": [],
   "source": [
    "# Mount drive\n",
    "from google.colab import drive\n",
    "import os\n",
    "\n",
    "drive.mount('/content/drive')\n",
    "\n",
    "# Change working path\n",
    "os.chdir('/content/drive/My Drive/app')"
   ]
  },
  {
   "cell_type": "markdown",
   "metadata": {
    "colab_type": "text",
    "id": "ZChN39D3Ga9C"
   },
   "source": [
    "### Install packages and import modules"
   ]
  },
  {
   "cell_type": "code",
   "execution_count": null,
   "metadata": {
    "colab": {
     "base_uri": "https://localhost:8080/",
     "height": 51
    },
    "colab_type": "code",
    "executionInfo": {
     "elapsed": 4959,
     "status": "ok",
     "timestamp": 1593470650240,
     "user": {
      "displayName": "Lukas Pielsticker",
      "photoUrl": "",
      "userId": "09713923278611487525"
     },
     "user_tz": -120
    },
    "id": "y0asYF8EScnE",
    "outputId": "e0c35243-d73d-4fb3-e82c-0f05ab4baa61"
   },
   "outputs": [],
   "source": [
    "# Install packages\n",
    "!pip install python-docx\n",
    "\n",
    "# Import standard modules and magic commands\n",
    "import datetime\n",
    "import numpy as np\n",
    "import pytz\n",
    "import importlib\n",
    "\n",
    "# Magic commands\n",
    "%matplotlib inline\n",
    "from IPython.core.interactiveshell import InteractiveShell\n",
    "InteractiveShell.ast_node_interactivity = \"all\"\n",
    "\n",
    "# Disable tf warnings\n",
    "os.environ['TF_CPP_MIN_LOG_LEVEL'] = '3'\n",
    "\n",
    "import tensorflow as tf"
   ]
  },
  {
   "cell_type": "markdown",
   "metadata": {
    "colab_type": "text",
    "id": "kiDMX7OaGa9F"
   },
   "source": [
    "### Load custom modules"
   ]
  },
  {
   "cell_type": "code",
   "execution_count": null,
   "metadata": {
    "colab": {
     "base_uri": "https://localhost:8080/",
     "height": 68
    },
    "colab_type": "code",
    "executionInfo": {
     "elapsed": 1460,
     "status": "ok",
     "timestamp": 1593472588875,
     "user": {
      "displayName": "Lukas Pielsticker",
      "photoUrl": "",
      "userId": "09713923278611487525"
     },
     "user_tz": -120
    },
    "id": "zz-HVIuTSgp7",
    "outputId": "23784f1e-6052-412a-bbed-23287481d76a"
   },
   "outputs": [],
   "source": [
    "try:\n",
    "    import importlib\n",
    "    importlib.reload(classifier)\n",
    "    importlib.reload(models)\n",
    "    importlib.reload(clfutils)\n",
    "    print('Modules were reloaded.')\n",
    "except:\n",
    "    import xpsdeeplearning.network.classifier as classifier\n",
    "    import xpsdeeplearning.network.models as models\n",
    "    import xpsdeeplearning.network.utils as clfutils\n",
    "    print('Modules were loaded.')"
   ]
  },
  {
   "cell_type": "markdown",
   "metadata": {
    "colab_type": "text",
    "id": "gFhZvpTIScnH"
   },
   "source": [
    "### Setting up the parameters & folder structure"
   ]
  },
  {
   "cell_type": "code",
   "execution_count": null,
   "metadata": {
    "colab": {
     "base_uri": "https://localhost:8080/",
     "height": 68
    },
    "colab_type": "code",
    "executionInfo": {
     "elapsed": 1460,
     "status": "ok",
     "timestamp": 1593472589971,
     "user": {
      "displayName": "Lukas Pielsticker",
      "photoUrl": "",
      "userId": "09713923278611487525"
     },
     "user_tz": -120
    },
    "id": "gUcC7b9YScnI",
    "outputId": "8d3e198b-f8dc-4e8a-92f1-53754764257a"
   },
   "outputs": [],
   "source": [
    "np.random.seed(502)\n",
    "time =  datetime.datetime.now().astimezone(pytz.timezone('Europe/Berlin')).strftime(\"%Y%m%d_%Hh%Mm\")\n",
    "data_name = 'Fe_single_4_classes_transfer'\n",
    "\n",
    "label_values = ['Fe metal', 'FeO', 'Fe3O4', 'Fe2O3']\n",
    "\n",
    "clf = classifier.ClassifierSingle(time = time,\n",
    "                                  data_name = data_name,\n",
    "                                  labels = label_values)"
   ]
  },
  {
   "cell_type": "markdown",
   "metadata": {
    "colab_type": "text",
    "id": "wi-TLcucScnK"
   },
   "source": [
    "### Load and inspect the data"
   ]
  },
  {
   "cell_type": "code",
   "execution_count": null,
   "metadata": {
    "colab": {
     "base_uri": "https://localhost:8080/",
     "height": 1000
    },
    "colab_type": "code",
    "executionInfo": {
     "elapsed": 3602,
     "status": "ok",
     "timestamp": 1593472593159,
     "user": {
      "displayName": "Lukas Pielsticker",
      "photoUrl": "",
      "userId": "09713923278611487525"
     },
     "user_tz": -120
    },
    "id": "CRMFaHzEScnK",
    "outputId": "93187c6a-8857-4f79-bdf3-d326607c2ee1"
   },
   "outputs": [],
   "source": [
    "input_filepath = r'/content/drive/My Drive/app/datasets/20200605_iron_single_500000.h5'\n",
    "train_test_split = 0.2\n",
    "train_val_split = 0.2\n",
    "no_of_examples = 1000\n",
    "\n",
    "X_train, X_val, X_test, y_train, y_val, y_test = clf.load_data_preprocess(input_filepath = input_filepath,\n",
    "                                                                          no_of_examples = no_of_examples,\n",
    "                                                                          train_test_split = train_test_split,\n",
    "                                                                          train_val_split = train_val_split)\n",
    "# Check how the examples are distributed across the classes:\n",
    "class_distribution = clf.check_class_distribution()\n",
    "clf.plot_class_distribution()\n",
    "clf.plot_random(no_of_spectra = 9, dataset = 'train')  "
   ]
  },
  {
   "cell_type": "markdown",
   "metadata": {
    "colab_type": "text",
    "id": "Kh3RH0VTScnk"
   },
   "source": [
    "## Load pre-trained model"
   ]
  },
  {
   "cell_type": "markdown",
   "metadata": {
    "colab_type": "text",
    "id": "iMrWkux3Ga9Q"
   },
   "source": [
    "### Load model without classification layers"
   ]
  },
  {
   "cell_type": "code",
   "execution_count": null,
   "metadata": {
    "colab": {
     "base_uri": "https://localhost:8080/",
     "height": 561
    },
    "colab_type": "code",
    "executionInfo": {
     "elapsed": 1874,
     "status": "ok",
     "timestamp": 1593472665746,
     "user": {
      "displayName": "Lukas Pielsticker",
      "photoUrl": "",
      "userId": "09713923278611487525"
     },
     "user_tz": -120
    },
    "id": "FrCOX3HcGa9Q",
    "outputId": "fd8cc609-69dc-4789-d27f-ed2e6345c382"
   },
   "outputs": [],
   "source": [
    "clf.load_model(model_path = r'/content/drive/My Drive/app/saved_models/20200629_23h27m_Fe_single_4_classes',\n",
    "               drop_last_layers = 2)\n",
    "clf.summary()"
   ]
  },
  {
   "cell_type": "code",
   "execution_count": null,
   "metadata": {
    "colab": {
     "base_uri": "https://localhost:8080/",
     "height": 34
    },
    "colab_type": "code",
    "executionInfo": {
     "elapsed": 1976,
     "status": "ok",
     "timestamp": 1593472713776,
     "user": {
      "displayName": "Lukas Pielsticker",
      "photoUrl": "",
      "userId": "09713923278611487525"
     },
     "user_tz": -120
    },
    "id": "veT2y-C3Tpzd",
    "outputId": "56287fa7-b2c1-48ad-e297-e869840ebb81"
   },
   "outputs": [],
   "source": [
    "clf.load_model(model_path = r'/content/drive/My Drive/app/saved_models/20200629_23h27m_Fe_single_4_classes')"
   ]
  },
  {
   "cell_type": "code",
   "execution_count": null,
   "metadata": {
    "colab": {
     "base_uri": "https://localhost:8080/",
     "height": 34
    },
    "colab_type": "code",
    "executionInfo": {
     "elapsed": 1535,
     "status": "ok",
     "timestamp": 1593472717171,
     "user": {
      "displayName": "Lukas Pielsticker",
      "photoUrl": "",
      "userId": "09713923278611487525"
     },
     "user_tz": -120
    },
    "id": "dQV_5i_RTtXc",
    "outputId": "86056e6a-2ed4-4280-c96d-0468b5d9b14a"
   },
   "outputs": [],
   "source": [
    "clf.model.get_config().keys()\n",
    "\n",
    "clf.model.get_config()['input_layers']\n",
    "clf.model.get_config()['output_layers']\n",
    "#self.model.get_config()['no_of_inputs'],\n"
   ]
  },
  {
   "cell_type": "markdown",
   "metadata": {
    "colab_type": "text",
    "id": "_PzxwIRzRoe_"
   },
   "source": [
    "### Freeze the feature extractor"
   ]
  },
  {
   "cell_type": "code",
   "execution_count": null,
   "metadata": {
    "colab": {},
    "colab_type": "code",
    "id": "RRjqj2roRmJt"
   },
   "outputs": [],
   "source": [
    "clf.model.trainable = False\n"
   ]
  },
  {
   "cell_type": "markdown",
   "metadata": {
    "colab_type": "text",
    "id": "kxaSnAeIScnN"
   },
   "source": [
    "### Add new classification layers"
   ]
  },
  {
   "cell_type": "code",
   "execution_count": null,
   "metadata": {
    "colab": {},
    "colab_type": "code",
    "id": "IqbvB9zmScnN"
   },
   "outputs": [],
   "source": [
    "from tensorflow.keras.layers import Dense\n",
    "\n",
    "dense_1 = Dense(1000, activation = 'relu')(clf_2.model.layers[-1].output)\n",
    "dense_2 = Dense(clf.num_classes, activation = 'softmax')(dense_1)\n",
    "\n",
    "clf.model = models.EmptyModel(inputs = clf.model.input,\n",
    "                        outputs = dense_2,\n",
    "                        inputshape = clf.input_shape,\n",
    "                        num_classes = clf.num_classes,\n",
    "                        no_of_inputs = clf.model.get_config()['no_of_inputs'],\n",
    "                        name = 'Changed_Model')\n",
    "clf.summary()"
   ]
  },
  {
   "cell_type": "markdown",
   "metadata": {
    "colab_type": "text",
    "id": "SsIbOK3DScnP"
   },
   "source": [
    "### Compile and summarize the model"
   ]
  },
  {
   "cell_type": "code",
   "execution_count": null,
   "metadata": {
    "colab": {},
    "colab_type": "code",
    "id": "Levg0kTyGa9V"
   },
   "outputs": [],
   "source": [
    "from tensorflow.keras.optimizers import Adam\n",
    "learning_rate = 1e-05\n",
    "optimizer = Adam(learning_rate = learning_rate) \n",
    "\n",
    "clf.model.compile(loss = 'categorical_crossentropy',\n",
    "                  optimizer = optimizer, \n",
    "                  metrics = ['accuracy'])\n",
    "\n",
    "\n",
    "# Plot summary and save model plot.\n",
    "clf.summary()\n",
    "clf.save_and_print_model_image()"
   ]
  },
  {
   "cell_type": "markdown",
   "metadata": {
    "colab_type": "text",
    "id": "mYqIMQVkGa9X"
   },
   "source": [
    "### Training"
   ]
  },
  {
   "cell_type": "code",
   "execution_count": null,
   "metadata": {
    "colab": {},
    "colab_type": "code",
    "id": "8xgd0t3aScnQ"
   },
   "outputs": [],
   "source": [
    "epochs = 10\n",
    "batch_size = 32\n",
    "\n",
    "hist = clf.train(checkpoint = True,\n",
    "                 early_stopping = False,\n",
    "                 tb_log = True, \n",
    "                 csv_log = True,\n",
    "                 epochs = epochs, \n",
    "                 batch_size = batch_size,\n",
    "                 verbose = 1)"
   ]
  },
  {
   "cell_type": "markdown",
   "metadata": {
    "colab_type": "text",
    "id": "rwY64s5fScnS"
   },
   "source": [
    "### Graphs"
   ]
  },
  {
   "cell_type": "code",
   "execution_count": null,
   "metadata": {
    "colab": {},
    "colab_type": "code",
    "id": "tilFEM-ZScnT"
   },
   "outputs": [],
   "source": [
    "dir_name = clf.time + '_' + clf.data_name\n",
    "graph = clfutils.TrainingGraphs(clf.history, dir_name) \n",
    "graph.plot_loss()\n",
    "graph.plot_accuracy()"
   ]
  },
  {
   "cell_type": "markdown",
   "metadata": {
    "colab_type": "text",
    "id": "2hzyq_mYScnV"
   },
   "source": [
    "### Evaluation on test data"
   ]
  },
  {
   "cell_type": "code",
   "execution_count": null,
   "metadata": {
    "colab": {},
    "colab_type": "code",
    "id": "O24OMUNKScnV"
   },
   "outputs": [],
   "source": [
    "score = clf.evaluate()\n",
    "test_loss, test_accuracy = score[0], score[1]\n",
    "print('Test loss: ' + str(np.round(test_loss, decimals=3)))\n",
    "print('Test accuracy: ' + str(np.round(test_accuracy, decimals=3)))"
   ]
  },
  {
   "cell_type": "markdown",
   "metadata": {
    "colab_type": "text",
    "id": "im-5HFvGScnX"
   },
   "source": [
    "### Prediction on test data"
   ]
  },
  {
   "cell_type": "code",
   "execution_count": null,
   "metadata": {
    "colab": {},
    "colab_type": "code",
    "id": "Uvb314wPScnY"
   },
   "outputs": [],
   "source": [
    "pred_train, pred_test = clf.predict()\n",
    "pred_train_classes, pred_test_classes = clf.predict_classes()"
   ]
  },
  {
   "cell_type": "markdown",
   "metadata": {
    "colab_type": "text",
    "id": "hLwmQCSaScna"
   },
   "source": [
    "### Show some predictions"
   ]
  },
  {
   "cell_type": "markdown",
   "metadata": {
    "colab_type": "text",
    "id": "n8NzxKX8Scna"
   },
   "source": [
    "#### Training data"
   ]
  },
  {
   "cell_type": "code",
   "execution_count": null,
   "metadata": {
    "colab": {},
    "colab_type": "code",
    "id": "ZeJgwhuDScnb"
   },
   "outputs": [],
   "source": [
    "clf.plot_random(no_of_spectra = 6, dataset = 'train', with_prediction = True)  "
   ]
  },
  {
   "cell_type": "markdown",
   "metadata": {
    "colab_type": "text",
    "id": "htoKHrPkScnd"
   },
   "source": [
    "#### Test data"
   ]
  },
  {
   "cell_type": "code",
   "execution_count": null,
   "metadata": {
    "colab": {},
    "colab_type": "code",
    "id": "P7i3oUziScnd"
   },
   "outputs": [],
   "source": [
    "clf.plot_random(no_of_spectra = 6, dataset = 'test', with_prediction = True)  "
   ]
  },
  {
   "cell_type": "markdown",
   "metadata": {
    "colab_type": "text",
    "id": "oIw_jHjdScnf"
   },
   "source": [
    "### Saving data"
   ]
  },
  {
   "cell_type": "code",
   "execution_count": null,
   "metadata": {
    "colab": {},
    "colab_type": "code",
    "id": "0xkBRtbaScng"
   },
   "outputs": [],
   "source": [
    "clf.save_model()\n",
    "clf.save_hyperparams()\n",
    "clf.shelve_results(full = False)"
   ]
  },
  {
   "cell_type": "markdown",
   "metadata": {
    "colab_type": "text",
    "id": "GDqgN5mCScni"
   },
   "source": [
    "### Report"
   ]
  },
  {
   "cell_type": "code",
   "execution_count": null,
   "metadata": {
    "colab": {},
    "colab_type": "code",
    "id": "dAvxpYfnScni"
   },
   "outputs": [],
   "source": [
    "dir_name = clf.time + '_' + clf.data_name\n",
    "rep = clfutils.Report(dir_name)  \n",
    "rep.write()   "
   ]
  },
  {
   "cell_type": "markdown",
   "metadata": {
    "colab_type": "text",
    "id": "gLJQUtKyScnp"
   },
   "source": [
    "### Save output of notebook"
   ]
  },
  {
   "cell_type": "code",
   "execution_count": null,
   "metadata": {
    "colab": {},
    "colab_type": "code",
    "id": "wXTzMoApScnq"
   },
   "outputs": [],
   "source": [
    "from IPython.display import Javascript, display\n",
    "from nbconvert import HTMLExporter\n",
    "\n",
    "def save_notebook():\n",
    "    display(Javascript(\"IPython.notebook.save_notebook()\"), include=['application/javascript'])\n",
    "\n",
    "def output_HTML(read_file, output_file):\n",
    "    import codecs\n",
    "    import nbformat\n",
    "    exporter = HTMLExporter()\n",
    "    # read_file is '.ipynb', output_file is '.html'\n",
    "    output_notebook = nbformat.read(read_file, as_version=4)\n",
    "    output, resources = exporter.from_notebook_node(output_notebook)\n",
    "    codecs.open(output_file, 'w', encoding='utf-8').write(output)\n",
    "\n",
    "import time\n",
    "\n",
    "save_notebook()\n",
    "time.sleep(3)\n",
    "current_file = 'transfer_learning_single.ipynb'\n",
    "output_file = os.path.join(clf.log_dir,'transfer_learning_single_out.html')\n",
    "output_HTML(current_file, output_file)"
   ]
  }
 ],
 "metadata": {
  "accelerator": "GPU",
  "colab": {
   "collapsed_sections": [],
   "name": "transfer_learning_single.ipynb",
   "provenance": []
  },
  "kernelspec": {
   "display_name": "Python 3",
   "language": "python",
   "name": "python3"
  },
  "language_info": {
   "codemirror_mode": {
    "name": "ipython",
    "version": 3
   },
   "file_extension": ".py",
   "mimetype": "text/x-python",
   "name": "python",
   "nbconvert_exporter": "python",
   "pygments_lexer": "ipython3",
   "version": "3.7.7"
  }
 },
 "nbformat": 4,
 "nbformat_minor": 1
}
